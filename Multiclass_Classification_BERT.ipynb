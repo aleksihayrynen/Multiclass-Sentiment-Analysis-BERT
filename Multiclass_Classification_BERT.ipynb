{
  "nbformat": 4,
  "nbformat_minor": 0,
  "metadata": {
    "colab": {
      "provenance": []
    },
    "kernelspec": {
      "name": "python3",
      "display_name": "Python 3"
    },
    "language_info": {
      "name": "python"
    }
  },
  "cells": [
    {
      "cell_type": "markdown",
      "source": [
        "##Imports"
      ],
      "metadata": {
        "id": "VB7iMLcwEyjh"
      }
    },
    {
      "cell_type": "code",
      "execution_count": null,
      "metadata": {
        "id": "CTt2pqxRZihs"
      },
      "outputs": [],
      "source": [
        "!pip install transformers torch pandas scikit-learn tqdm\n",
        "import pandas as pd\n",
        "from google.colab import files\n",
        "from sklearn.model_selection import train_test_split\n",
        "from transformers import BertTokenizer, BertForSequenceClassification, AutoModel\n",
        "import torch\n",
        "from torch.utils.data import DataLoader, TensorDataset\n",
        "from torch.optim import AdamW\n",
        "from tqdm import tqdm\n",
        "from sklearn.metrics import classification_report\n",
        "import matplotlib.pyplot as plt\n",
        "import seaborn as sns"
      ]
    },
    {
      "cell_type": "markdown",
      "source": [
        "##Google Drive for Dataset"
      ],
      "metadata": {
        "id": "QOpbaPb9E5wQ"
      }
    },
    {
      "cell_type": "code",
      "execution_count": null,
      "metadata": {
        "colab": {
          "base_uri": "https://localhost:8080/"
        },
        "id": "ZkGyiBjna_ll",
        "outputId": "65e97883-e3fe-4879-83bc-bdddfc82ee23"
      },
      "outputs": [
        {
          "output_type": "stream",
          "name": "stdout",
          "text": [
            "Mounted at /content/drive\n"
          ]
        }
      ],
      "source": [
        "from google.colab import drive\n",
        "drive.mount('/content/drive')"
      ]
    },
    {
      "cell_type": "code",
      "execution_count": null,
      "metadata": {
        "colab": {
          "base_uri": "https://localhost:8080/"
        },
        "id": "S2zuNcvEbEI7",
        "outputId": "dfa1dc86-860b-4b44-88e4-ea88ec4fbd1d"
      },
      "outputs": [
        {
          "output_type": "stream",
          "name": "stdout",
          "text": [
            "['test.csv', 'readme.txt', 'train.csv']\n"
          ]
        }
      ],
      "source": [
        "import os\n",
        "print(os.listdir(\"/content/drive/My Drive/yelp_review_fine-grained_5_classes_csv\"))  #Change to your own path or own method for dataset"
      ]
    },
    {
      "cell_type": "markdown",
      "source": [
        "##Dataset"
      ],
      "metadata": {
        "id": "Z2O-7_VJFHjw"
      }
    },
    {
      "cell_type": "code",
      "execution_count": null,
      "metadata": {
        "colab": {
          "base_uri": "https://localhost:8080/"
        },
        "id": "diJSkLynbBoR",
        "outputId": "1d866139-83d1-4ea0-af18-beb858009ee1"
      },
      "outputs": [
        {
          "output_type": "stream",
          "name": "stdout",
          "text": [
            "True\n"
          ]
        }
      ],
      "source": [
        "print(torch.cuda.is_available())  # Should return True if GPU is available"
      ]
    },
    {
      "cell_type": "code",
      "execution_count": null,
      "metadata": {
        "colab": {
          "base_uri": "https://localhost:8080/"
        },
        "id": "0Lc5d3W6gw2y",
        "outputId": "a894d7e4-7e51-49de-f7f8-550f3f1884ec"
      },
      "outputs": [
        {
          "output_type": "stream",
          "name": "stdout",
          "text": [
            "Train data preview:\n",
            "   rating                                             review\n",
            "0       5  dr. goldberg offers everything i look for in a...\n",
            "1       2  Unfortunately, the frustration of being Dr. Go...\n",
            "2       4  Been going to Dr. Goldberg for over 10 years. ...\n",
            "3       4  Got a letter in the mail last week that said D...\n",
            "4       1  I don't know what Dr. Goldberg was like before...\n",
            "Test data preview:\n",
            "   rating                                             review\n",
            "0       1  I got 'new' tires from them and within two wee...\n",
            "1       1  Don't waste your time.  We had two different p...\n",
            "2       1  All I can say is the worst! We were the only 2...\n",
            "3       1  I have been to this restaurant twice and was d...\n",
            "4       1  Food was NOT GOOD at all! My husband & I ate h...\n"
          ]
        }
      ],
      "source": [
        "# Load train and test datasets\n",
        "train_data = pd.read_csv(\"/content/drive/My Drive/yelp_review_fine-grained_5_classes_csv/train.csv\")\n",
        "test_data = pd.read_csv(\"/content/drive/My Drive/yelp_review_fine-grained_5_classes_csv/test.csv\")\n",
        "\n",
        "# Rename columns for clarity\n",
        "train_data.rename(columns={\"class_index\": \"rating\", \"review_text\": \"review\"}, inplace=True)\n",
        "test_data.rename(columns={\"class_index\": \"rating\", \"review_text\": \"review\"}, inplace=True)\n",
        "\n",
        "print(\"Train data preview:\")\n",
        "print(train_data.head())\n",
        "\n",
        "print(\"Test data preview:\")\n",
        "print(test_data.head())\n",
        "\n"
      ]
    },
    {
      "cell_type": "code",
      "execution_count": null,
      "metadata": {
        "colab": {
          "base_uri": "https://localhost:8080/"
        },
        "id": "vYI0oaoihFLe",
        "outputId": "94403401-6d4b-4bec-d301-27e3e0603948"
      },
      "outputs": [
        {
          "output_type": "stream",
          "name": "stdout",
          "text": [
            "Train Subset Class Distribution:\n",
            "rating\n",
            "2    10000\n",
            "3    10000\n",
            "4    10000\n",
            "1    10000\n",
            "0    10000\n",
            "Name: count, dtype: int64\n",
            "\n",
            "Validation Subset Class Distribution:\n",
            "rating\n",
            "4    2000\n",
            "0    2000\n",
            "1    2000\n",
            "2    2000\n",
            "3    2000\n",
            "Name: count, dtype: int64\n",
            "\n",
            "Test Subset Class Distribution:\n",
            "rating\n",
            "0    2000\n",
            "4    2000\n",
            "2    2000\n",
            "1    2000\n",
            "3    2000\n",
            "Name: count, dtype: int64\n",
            "\n",
            "Train Subset Shape: (50000, 2)\n",
            "Validation Subset Shape: (10000, 2)\n",
            "Test Subset Shape: (10000, 2)\n"
          ]
        }
      ],
      "source": [
        "# Split train_data into temporary train and validation datasets\n",
        "train_data_temp, val_subset = train_test_split(\n",
        "    train_data, test_size=10000, stratify=train_data['rating'], random_state=42\n",
        ")\n",
        "\n",
        "# Split train_data_temp into train_subset\n",
        "train_subset, _ = train_test_split(\n",
        "    train_data_temp, train_size=50000, stratify=train_data_temp['rating'], random_state=42\n",
        ")\n",
        "\n",
        "# Split test_data into test_subset\n",
        "test_subset, _ = train_test_split(\n",
        "    test_data, train_size=10000, stratify=test_data['rating'], random_state=42\n",
        ")\n",
        "\n",
        "# Subtract 1 to ensure labels are in the range [0, 4]\n",
        "train_subset['rating'] = train_subset['rating'] - 1\n",
        "test_subset['rating'] = test_subset['rating'] - 1\n",
        "val_subset['rating'] = val_subset['rating'] - 1\n",
        "\n",
        "#set the classes as int\n",
        "train_subset['rating'] = train_subset['rating'].astype(int)\n",
        "test_subset['rating'] = test_subset['rating'].astype(int)\n",
        "val_subset['rating'] = val_subset['rating'].astype(int)\n",
        "\n",
        "#reset index\n",
        "train_subset.reset_index(drop=True, inplace=True)\n",
        "test_subset.reset_index(drop=True, inplace=True)\n",
        "val_subset.reset_index(drop=True, inplace=True)\n",
        "\n",
        "# Print the class distribution for each subset\n",
        "print(\"Train Subset Class Distribution:\")\n",
        "print(train_subset['rating'].value_counts())\n",
        "\n",
        "print(\"\\nValidation Subset Class Distribution:\")\n",
        "print(val_subset['rating'].value_counts())\n",
        "\n",
        "print(\"\\nTest Subset Class Distribution:\")\n",
        "print(test_subset['rating'].value_counts())\n",
        "\n",
        "# Print the shapes of the datasets\n",
        "print(\"\\nTrain Subset Shape:\", train_subset.shape)\n",
        "print(\"Validation Subset Shape:\", val_subset.shape)\n",
        "print(\"Test Subset Shape:\", test_subset.shape)"
      ]
    },
    {
      "cell_type": "markdown",
      "source": [
        "###Dataset visualization"
      ],
      "metadata": {
        "id": "kSequY3aFSWn"
      }
    },
    {
      "cell_type": "code",
      "source": [
        "# Create subplots\n",
        "fig, axes = plt.subplots(1, 3, figsize=(18, 6))\n",
        "\n",
        "# Plot the distribution of ratings in the train dataset\n",
        "sns.countplot(x=\"rating\", data=train_subset, palette=\"Set2\", ax=axes[0])\n",
        "axes[0].set_title(\"Distribution of Ratings in Train Dataset\")\n",
        "axes[0].set_xlabel(\"Rating\")\n",
        "axes[0].set_ylabel(\"Count\")\n",
        "\n",
        "# Plot the distribution of ratings in the validation dataset\n",
        "sns.countplot(x=\"rating\", data=val_subset, palette=\"Set2\", ax=axes[1])\n",
        "axes[1].set_title(\"Distribution of Ratings in Validation Dataset\")\n",
        "axes[1].set_xlabel(\"Rating\")\n",
        "axes[1].set_ylabel(\"Count\")\n",
        "\n",
        "# Plot the distribution of ratings in the test dataset\n",
        "sns.countplot(x=\"rating\", data=test_subset, palette=\"Set2\", ax=axes[2])\n",
        "axes[2].set_title(\"Distribution of Ratings in Test Dataset\")\n",
        "axes[2].set_xlabel(\"Rating\")\n",
        "axes[2].set_ylabel(\"Count\")\n",
        "\n",
        "# Adjust layout\n",
        "plt.tight_layout()\n",
        "\n",
        "# Show the plots\n",
        "plt.show()\n"
      ],
      "metadata": {
        "colab": {
          "base_uri": "https://localhost:8080/",
          "height": 764
        },
        "id": "RKfvObCGn14f",
        "outputId": "53e50d80-9c31-4d03-927a-3be5c091752e"
      },
      "execution_count": null,
      "outputs": [
        {
          "output_type": "stream",
          "name": "stderr",
          "text": [
            "<ipython-input-11-078d7aaa9fd5>:5: FutureWarning: \n",
            "\n",
            "Passing `palette` without assigning `hue` is deprecated and will be removed in v0.14.0. Assign the `x` variable to `hue` and set `legend=False` for the same effect.\n",
            "\n",
            "  sns.countplot(x=\"rating\", data=train_subset, palette=\"Set2\", ax=axes[0])\n",
            "<ipython-input-11-078d7aaa9fd5>:11: FutureWarning: \n",
            "\n",
            "Passing `palette` without assigning `hue` is deprecated and will be removed in v0.14.0. Assign the `x` variable to `hue` and set `legend=False` for the same effect.\n",
            "\n",
            "  sns.countplot(x=\"rating\", data=val_subset, palette=\"Set2\", ax=axes[1])\n",
            "<ipython-input-11-078d7aaa9fd5>:17: FutureWarning: \n",
            "\n",
            "Passing `palette` without assigning `hue` is deprecated and will be removed in v0.14.0. Assign the `x` variable to `hue` and set `legend=False` for the same effect.\n",
            "\n",
            "  sns.countplot(x=\"rating\", data=test_subset, palette=\"Set2\", ax=axes[2])\n"
          ]
        },
        {
          "output_type": "display_data",
          "data": {
            "text/plain": [
              "<Figure size 1800x600 with 3 Axes>"
            ],
            "image/png": "[encoded data removed]"
          },
          "metadata": {}
        }
      ]
    },
    {
      "cell_type": "code",
      "source": [
        "# Add a column for the length of the reviews\n",
        "train_data['review_length'] = train_data['review'].apply(lambda x: len(x.split()))\n",
        "\n",
        "# Create subplots\n",
        "fig, axes = plt.subplots(1, 2, figsize=(16, 6))\n",
        "\n",
        "# Boxplot: Review length by rating\n",
        "sns.boxplot(x=\"rating\", y=\"review_length\", data=train_data, palette=\"Set2\", ax=axes[0])\n",
        "axes[0].set_title(\"Review Length by Rating\")\n",
        "axes[0].set_xlabel(\"Rating\")\n",
        "axes[0].set_ylabel(\"Review Length\")\n",
        "\n",
        "# Histogram: Distribution of review length\n",
        "sns.histplot(data=train_data, x=\"review_length\", kde=True, ax=axes[1], palette=\"Set2\")\n",
        "axes[1].set_title(\"Review Length Distribution\")\n",
        "axes[1].set_xlabel(\"Review Length\")\n",
        "axes[1].set_ylabel(\"Count\")\n",
        "\n",
        "# Adjust layout to avoid overlap\n",
        "plt.tight_layout()\n",
        "\n",
        "# Show the plots\n",
        "plt.show()\n"
      ],
      "metadata": {
        "colab": {
          "base_uri": "https://localhost:8080/",
          "height": 687
        },
        "id": "qCgGwi9LoSnh",
        "outputId": "97f4a97d-5eca-4f54-8450-4c4160a5f963"
      },
      "execution_count": null,
      "outputs": [
        {
          "output_type": "stream",
          "name": "stderr",
          "text": [
            "<ipython-input-12-bd3edbc519d0>:11: FutureWarning: \n",
            "\n",
            "Passing `palette` without assigning `hue` is deprecated and will be removed in v0.14.0. Assign the `x` variable to `hue` and set `legend=False` for the same effect.\n",
            "\n",
            "  sns.boxplot(x=\"rating\", y=\"review_length\", data=train_data, palette=\"Set2\", ax=axes[0])\n",
            "<ipython-input-12-bd3edbc519d0>:17: UserWarning: Ignoring `palette` because no `hue` variable has been assigned.\n",
            "  sns.histplot(data=train_data, x=\"review_length\", kde=True, ax=axes[1], palette=\"Set2\")\n"
          ]
        },
        {
          "output_type": "display_data",
          "data": {
            "text/plain": [
              "<Figure size 1600x600 with 2 Axes>"
            ],
            "image/png": "[encoded data removed]"
          },
          "metadata": {}
        }
      ]
    },
    {
      "cell_type": "markdown",
      "source": [
        "###Dataset visualization \"Word counts\""
      ],
      "metadata": {
        "id": "GW-s0wcWFc9O"
      }
    },
    {
      "cell_type": "code",
      "source": [
        "from sklearn.feature_extraction.text import ENGLISH_STOP_WORDS\n",
        "import string\n",
        "from collections import Counter\n",
        "\n",
        "customlist = [\"like\", \"got\" , \"just\" , \"time\"]\n",
        "# Function to clean and preprocess the text (removing punctuation and stopwords)\n",
        "def clean_text(text):\n",
        "    # Convert text to lowercase\n",
        "    text = text.lower()\n",
        "    # Remove punctuation\n",
        "    text = text.translate(str.maketrans('', '', string.punctuation))\n",
        "\n",
        "    # Remove stopwords\n",
        "    words = text.split()\n",
        "    return [word for word in words if word not in ENGLISH_STOP_WORDS and word not in customlist]\n",
        "\n",
        "# Create cleaned_train_set and cleaned_test_set DataFrames\n",
        "cleaned_train_set = train_subset.copy()  # Create a copy of train_subset\n",
        "cleaned_test_set = test_subset.copy()  # Create a copy of test_subset\n",
        "\n",
        "# Apply text cleaning to both the train and test subsets\n",
        "cleaned_train_set['cleaned_review'] = train_subset['review'].apply(clean_text)\n",
        "cleaned_test_set['cleaned_review'] = test_subset['review'].apply(clean_text)\n",
        "\n",
        "# Function to get the top 10 most common words for each rating/class\n",
        "def get_top_10_words(rating_class, df):\n",
        "    class_texts = df[df['rating'] == rating_class]['cleaned_review']\n",
        "    all_words = [word for text in class_texts for word in text]\n",
        "    word_counts = Counter(all_words)\n",
        "    return word_counts.most_common(10)\n",
        "\n",
        "# Get top 10 words for each class (ratings 1 to 5)\n",
        "top_10_words_per_class = {}\n",
        "for class_num in range(0, 5):\n",
        "    top_10_words_per_class[class_num] = get_top_10_words(class_num, cleaned_train_set) # changed train_subset to cleaned_train_set\n",
        "\n",
        "# Display the results for each class\n",
        "for class_num, top_words in top_10_words_per_class.items():\n",
        "    print(f\"Top 10 words for rating {class_num}:\")\n",
        "    for word, count in top_words:\n",
        "        print(f\"{word}: {count}\")\n",
        "    print()"
      ],
      "metadata": {
        "colab": {
          "base_uri": "https://localhost:8080/"
        },
        "id": "wu8eVjF_WyIo",
        "outputId": "4b04c210-ba07-42f3-c2dd-2379452b74cd"
      },
      "execution_count": null,
      "outputs": [
        {
          "output_type": "stream",
          "name": "stdout",
          "text": [
            "Top 10 words for rating 0:\n",
            "food: 5717\n",
            "place: 5521\n",
            "service: 4509\n",
            "said: 3528\n",
            "dont: 3418\n",
            "good: 3218\n",
            "told: 3194\n",
            "didnt: 3136\n",
            "did: 2723\n",
            "asked: 2691\n",
            "\n",
            "Top 10 words for rating 1:\n",
            "food: 7727\n",
            "place: 6121\n",
            "good: 6010\n",
            "service: 4186\n",
            "really: 3925\n",
            "dont: 3220\n",
            "didnt: 3099\n",
            "ordered: 2910\n",
            "great: 2523\n",
            "came: 2495\n",
            "\n",
            "Top 10 words for rating 2:\n",
            "good: 8179\n",
            "food: 6405\n",
            "place: 5905\n",
            "really: 3928\n",
            "service: 3374\n",
            "great: 3331\n",
            "pretty: 2874\n",
            "nice: 2807\n",
            "dont: 2641\n",
            "little: 2491\n",
            "\n",
            "Top 10 words for rating 3:\n",
            "good: 7398\n",
            "place: 5765\n",
            "great: 5363\n",
            "food: 5218\n",
            "really: 3346\n",
            "service: 2807\n",
            "nice: 2693\n",
            "little: 2406\n",
            "pretty: 2039\n",
            "love: 1993\n",
            "\n",
            "Top 10 words for rating 4:\n",
            "great: 5596\n",
            "place: 5095\n",
            "food: 4335\n",
            "good: 3993\n",
            "service: 2880\n",
            "best: 2776\n",
            "love: 2610\n",
            "really: 2329\n",
            "ive: 1912\n",
            "amazing: 1906\n",
            "\n"
          ]
        }
      ]
    },
    {
      "cell_type": "code",
      "source": [
        "# Combine all reviews into a single list of words\n",
        "all_words = [word for text in cleaned_train_set['cleaned_review'] for word in text]\n",
        "\n",
        "# Get the counts of all words\n",
        "word_counts = Counter(all_words)\n",
        "\n",
        "# Get the top 20 most common words\n",
        "top_20_words = word_counts.most_common(20)\n",
        "\n",
        "# Print the top 20 words\n",
        "print(\"Top 20 most common words in all reviews:\")\n",
        "for word, count in top_20_words:\n",
        "    print(f\"{word}: {count}\")\n",
        "\n",
        "# Visualization\n",
        "# Extract words and their counts for plotting\n",
        "words = [word for word, count in top_20_words]\n",
        "counts = [count for word, count in top_20_words]\n",
        "\n",
        "# Plot the bar chart\n",
        "plt.figure(figsize=(10, 6))\n",
        "plt.bar(words, counts, color='skyblue')\n",
        "plt.title(\"Top 20 Most Common Words in All Reviews\", fontsize=16)\n",
        "plt.xlabel(\"Words\", fontsize=14)\n",
        "plt.ylabel(\"Frequency\", fontsize=14)\n",
        "plt.xticks(rotation=45, fontsize=12)\n",
        "plt.grid(axis='y', linestyle='--', alpha=0.7)\n",
        "plt.show()\n"
      ],
      "metadata": {
        "colab": {
          "base_uri": "https://localhost:8080/",
          "height": 995
        },
        "id": "TtFTFz2UaE1a",
        "outputId": "b1402731-37c1-4edb-e3ca-f3a3e63889ad"
      },
      "execution_count": null,
      "outputs": [
        {
          "output_type": "stream",
          "name": "stdout",
          "text": [
            "Top 20 most common words in all reviews:\n",
            "food: 29402\n",
            "good: 28798\n",
            "place: 28407\n",
            "great: 18110\n",
            "service: 17756\n",
            "really: 15850\n",
            "dont: 12807\n",
            "didnt: 11001\n",
            "im: 10325\n",
            "nice: 10302\n",
            "ordered: 9949\n",
            "did: 9276\n",
            "came: 9140\n",
            "people: 9118\n",
            "order: 8976\n",
            "little: 8935\n",
            "went: 8923\n",
            "restaurant: 8758\n",
            "pretty: 8584\n",
            "ive: 8162\n"
          ]
        },
        {
          "output_type": "display_data",
          "data": {
            "text/plain": [
              "<Figure size 1000x600 with 1 Axes>"
            ],
            "image/png": "[encoded data removed]"
          },
          "metadata": {}
        }
      ]
    },
    {
      "cell_type": "markdown",
      "source": [
        "##Tokenizer"
      ],
      "metadata": {
        "id": "DyMkdeaEFltT"
      }
    },
    {
      "cell_type": "code",
      "execution_count": null,
      "metadata": {
        "id": "8reuk8nYhWXy",
        "colab": {
          "base_uri": "https://localhost:8080/",
          "height": 249,
          "referenced_widgets": [
            "fea3a2e17448435186f246129d281365",
            "ead67706ae634e919e0a52f64a611f60",
            "07e8904a4649465bb2897ac6253b6c48",
            "db29acfa80c341579aba41c733f1e8d3",
            "fa92310d5f2e46faaa5338115f54586d",
            "72ed4cf66fc14e61bc565cb83360eb0d",
            "1df3ad59eb214ed48939b967f21bf0d7",
            "bce5c5c69c9941b99bbe147517216f46",
            "170e68524cc54806911fe21dd4a93968",
            "ba510656deb94965878801b0aa878cad",
            "8bcdf333f48b4d4eb95ce2e785916eb1",
            "b293f5564948473dbc5cccf77e12404b",
            "7b2b50fd733b4d3d90c899f6b64c3f14",
            "22359c50dbbe41eaafe0b78e4f1137fb",
            "49ac3ad1dd654628af9fef70c302d38b",
            "6cf50f87119a4d04811a1c67c77d24d6",
            "57a0397b4e594641a705a7198c302a47",
            "5504537c74184269a94d6d4065b63d78",
            "0839e87523b5413bba95914b45bd09db",
            "16595a8695a14b058ca93539eb430daa",
            "1f600085c0ff464baf62c3064736b47d",
            "e2d3defaf2f04c589054fa243820b199",
            "d15d998bda824948be6e3dbbc5a30c25",
            "86eefaf2d6dd4ef09c0a83e2d67d33c4",
            "2d7e631ca87b4bc6b952b1f5a7e391aa",
            "15f594220bb34a3fada3c1bc781cfd60",
            "7efe75c60f044d5083093833d48dba64",
            "00faf18b8f404b6b9aee07b0dfbe3391",
            "dd22e3427f864e7abd88ccd2948f891a",
            "966f62d3b6314290ab84fd401f7fc80e",
            "174df9e311f94e56bb244b5166b0ef5c",
            "cc9aac2295234b19b6888c4c8ce69a0d",
            "75cd332b099847b79dd81b37ec0e0031",
            "243d9730a9bd4a35a9a21f739197ee6f",
            "e38c559f240a4204bb571925c19b23e0",
            "0c5b0f25b190417fa09fe00e21578e50",
            "98712b53aa7d45dc81027b6cbd23b878",
            "18bcbf04661c495da9fc78ed98c5af96",
            "45dad287ec08493981c914398e282116",
            "a8805adeb3f34677a09f05ab9848457e",
            "f5b3d3fc830944d0b9eba1d9e3da6134",
            "c1c7ff98d99b40c0ad6b8e810833c4ed",
            "d621042900f44a67bd658329a6911541",
            "adbf82eebc49450e87d267617e3e5abb"
          ]
        },
        "outputId": "29c8639b-13da-4dff-b8d6-d2b52ca9fc90"
      },
      "outputs": [
        {
          "output_type": "stream",
          "name": "stderr",
          "text": [
            "/usr/local/lib/python3.10/dist-packages/huggingface_hub/utils/_auth.py:94: UserWarning: \n",
            "The secret `HF_TOKEN` does not exist in your Colab secrets.\n",
            "To authenticate with the Hugging Face Hub, create a token in your settings tab (https://huggingface.co/settings/tokens), set it as secret in your Google Colab and restart your session.\n",
            "You will be able to reuse this secret in all of your notebooks.\n",
            "Please note that authentication is recommended but still optional to access public models or datasets.\n",
            "  warnings.warn(\n"
          ]
        },
        {
          "output_type": "display_data",
          "data": {
            "text/plain": [
              "tokenizer_config.json:   0%|          | 0.00/48.0 [00:00<?, ?B/s]"
            ],
            "application/vnd.jupyter.widget-view+json": {
              "version_major": 2,
              "version_minor": 0,
              "model_id": "fea3a2e17448435186f246129d281365"
            }
          },
          "metadata": {}
        },
        {
          "output_type": "display_data",
          "data": {
            "text/plain": [
              "vocab.txt:   0%|          | 0.00/232k [00:00<?, ?B/s]"
            ],
            "application/vnd.jupyter.widget-view+json": {
              "version_major": 2,
              "version_minor": 0,
              "model_id": "b293f5564948473dbc5cccf77e12404b"
            }
          },
          "metadata": {}
        },
        {
          "output_type": "display_data",
          "data": {
            "text/plain": [
              "tokenizer.json:   0%|          | 0.00/466k [00:00<?, ?B/s]"
            ],
            "application/vnd.jupyter.widget-view+json": {
              "version_major": 2,
              "version_minor": 0,
              "model_id": "d15d998bda824948be6e3dbbc5a30c25"
            }
          },
          "metadata": {}
        },
        {
          "output_type": "display_data",
          "data": {
            "text/plain": [
              "config.json:   0%|          | 0.00/570 [00:00<?, ?B/s]"
            ],
            "application/vnd.jupyter.widget-view+json": {
              "version_major": 2,
              "version_minor": 0,
              "model_id": "243d9730a9bd4a35a9a21f739197ee6f"
            }
          },
          "metadata": {}
        }
      ],
      "source": [
        "# Load the BERT tokenizer\n",
        "tokenizer = BertTokenizer.from_pretrained('bert-base-uncased')\n",
        "\n",
        "# Tokenize data function\n",
        "def tokenize_data(reviews, ratings):\n",
        "    return tokenizer(\n",
        "        list(reviews),\n",
        "        max_length=256,\n",
        "        padding='max_length',\n",
        "        truncation=True,\n",
        "        return_tensors=\"pt\"\n",
        "    ), torch.tensor(ratings.values, dtype=torch.long)\n",
        "\n",
        "\n",
        "# Tokenize datasets\n",
        "train_inputs, train_labels = tokenize_data(train_subset['review'], train_subset['rating'])\n",
        "val_inputs, val_labels = tokenize_data(val_subset['review'], val_subset['rating'])\n",
        "test_inputs, test_labels = tokenize_data(test_subset['review'], test_subset['rating'])"
      ]
    },
    {
      "cell_type": "code",
      "source": [
        "# Display the first few rows of the tokenized inputs and labels\n",
        "print(\"First few tokenized reviews (inputs):\")\n",
        "print(train_inputs['input_ids'][:5])  # Access the 'input_ids' tensor and slice to get the first 5"
      ],
      "metadata": {
        "colab": {
          "base_uri": "https://localhost:8080/"
        },
        "outputId": "00754004-8d3e-4348-ba97-6f9b6ca25baf",
        "id": "MeM4UOlDdVqx"
      },
      "execution_count": null,
      "outputs": [
        {
          "output_type": "stream",
          "name": "stdout",
          "text": [
            "First few tokenized reviews (inputs):\n",
            "tensor([[ 101, 2234, 2182,  ..., 2172, 8808,  102],\n",
            "        [ 101, 1037, 2307,  ..., 1045, 2876,  102],\n",
            "        [ 101, 1045, 1005,  ...,    0,    0,    0],\n",
            "        [ 101, 2023, 2173,  ...,    0,    0,    0],\n",
            "        [ 101, 2234, 1999,  ...,    0,    0,    0]])\n"
          ]
        }
      ]
    },
    {
      "cell_type": "markdown",
      "source": [
        "###TensorDatasets - batch size"
      ],
      "metadata": {
        "id": "mleq5MSfFp83"
      }
    },
    {
      "cell_type": "code",
      "execution_count": null,
      "metadata": {
        "id": "fh2fV9IMdVqx"
      },
      "outputs": [],
      "source": [
        "# Create TensorDatasets\n",
        "train_dataset = TensorDataset(train_inputs['input_ids'], train_inputs['attention_mask'], train_labels)\n",
        "val_dataset = TensorDataset(val_inputs['input_ids'], val_inputs['attention_mask'], val_labels)\n",
        "test_dataset = TensorDataset(test_inputs['input_ids'], test_inputs['attention_mask'], test_labels)\n",
        "\n",
        "# Create DataLoaders\n",
        "train_loader = DataLoader(train_dataset, batch_size=64, shuffle=True)\n",
        "val_loader = DataLoader(val_dataset, batch_size=32)\n",
        "test_loader = DataLoader(test_dataset, batch_size=32)"
      ]
    },
    {
      "cell_type": "markdown",
      "source": [
        "##Model Training"
      ],
      "metadata": {
        "id": "r89RtkZzFvvg"
      }
    },
    {
      "cell_type": "code",
      "execution_count": null,
      "metadata": {
        "id": "w0FwesmpdaCE"
      },
      "outputs": [],
      "source": [
        "# Control whether to train or load the model\n",
        "TRAIN_MODEL = False  # Set to True to train; False to load and evaluate/predict"
      ]
    },
    {
      "cell_type": "code",
      "execution_count": null,
      "metadata": {
        "colab": {
          "base_uri": "https://localhost:8080/"
        },
        "outputId": "e592058e-2849-4b91-81fb-b67112736d1c",
        "id": "6gzSJXGedaCF"
      },
      "outputs": [
        {
          "output_type": "stream",
          "name": "stderr",
          "text": [
            "Some weights of BertForSequenceClassification were not initialized from the model checkpoint at bert-base-uncased and are newly initialized: ['classifier.bias', 'classifier.weight']\n",
            "You should probably TRAIN this model on a down-stream task to be able to use it for predictions and inference.\n",
            "<ipython-input-21-76cff6d783b3>:88: FutureWarning: You are using `torch.load` with `weights_only=False` (the current default value), which uses the default pickle module implicitly. It is possible to construct malicious pickle data which will execute arbitrary code during unpickling (See https://github.com/pytorch/pytorch/blob/main/SECURITY.md#untrusted-models for more details). In a future release, the default value for `weights_only` will be flipped to `True`. This limits the functions that could be executed during unpickling. Arbitrary objects will no longer be allowed to be loaded via this mode unless they are explicitly allowlisted by the user via `torch.serialization.add_safe_globals`. We recommend you start setting `weights_only=True` for any use case where you don't have full control of the loaded file. Please open an issue on GitHub for any issues related to this experimental feature.\n",
            "  model.load_state_dict(torch.load(\"/content/drive/My Drive/best_model_50_000.pth\"))\n"
          ]
        },
        {
          "output_type": "stream",
          "name": "stdout",
          "text": [
            "Loaded trained model from 'best_model.pth'.\n"
          ]
        }
      ],
      "source": [
        "# Initialize device\n",
        "device = torch.device('cuda' if torch.cuda.is_available() else 'cpu')\n",
        "\n",
        "if TRAIN_MODEL:\n",
        "    # Initialize model, optimizer, and loss\n",
        "    model = BertForSequenceClassification.from_pretrained(\n",
        "        'bert-base-uncased',\n",
        "        num_labels=5,\n",
        "        hidden_dropout_prob=0.2\n",
        "    ).to(device)\n",
        "\n",
        "    optimizer = AdamW(model.parameters(), lr= 1.7e-5 , weight_decay=0.01)\n",
        "    loss_fn = torch.nn.CrossEntropyLoss()\n",
        "\n",
        "    #Freeze the first 4 layers of BERT encoder\n",
        "    for param in model.bert.encoder.layer[:4].parameters():\n",
        "      param.requires_grad = False\n",
        "\n",
        "    # Early stopping parameters\n",
        "    patience = 2  # Stop training after 3 epochs with no improvement\n",
        "    best_val_loss = float('inf')\n",
        "    epochs_no_improve = 0\n",
        "    epochs = 7 # Max number of epochs\n",
        "\n",
        "    # Training loop\n",
        "    for epoch in range(epochs):\n",
        "        # Training phase\n",
        "        model.train()\n",
        "        train_loss = 0\n",
        "\n",
        "        for batch in tqdm(train_loader, desc=f\"Training Epoch {epoch + 1}\"):\n",
        "            input_ids, attention_mask, labels = [b.to(device) for b in batch]\n",
        "\n",
        "            # Forward pass\n",
        "            outputs = model(input_ids=input_ids, attention_mask=attention_mask)\n",
        "            loss = loss_fn(outputs.logits, labels)\n",
        "            train_loss += loss.item()\n",
        "\n",
        "            # Backward pass\n",
        "            optimizer.zero_grad()\n",
        "            loss.backward()\n",
        "            optimizer.step()\n",
        "\n",
        "        avg_train_loss = train_loss / len(train_loader)\n",
        "        print(f\"Epoch {epoch + 1}, Training Loss: {avg_train_loss:.4f}\")\n",
        "\n",
        "        # Validation phase\n",
        "        model.eval()\n",
        "        val_loss = 0  # Initialize val_loss\n",
        "        val_accuracy = 0  # Initialize val_accuracy\n",
        "\n",
        "        with torch.no_grad():\n",
        "            for batch in tqdm(val_loader, desc=f\"Validation Epoch {epoch + 1}\"):\n",
        "                input_ids, attention_mask, labels = [b.to(device) for b in batch]\n",
        "\n",
        "                # Forward pass\n",
        "                outputs = model(input_ids=input_ids, attention_mask=attention_mask)\n",
        "                loss = loss_fn(outputs.logits, labels)\n",
        "                val_loss += loss.item()\n",
        "\n",
        "                # Calculate accuracy\n",
        "                preds = torch.argmax(outputs.logits, dim=1)\n",
        "                val_accuracy += (preds == labels).float().mean().item()\n",
        "\n",
        "        avg_val_loss = val_loss / len(val_loader)\n",
        "        avg_val_accuracy = val_accuracy / len(val_loader)\n",
        "        print(f\"Epoch {epoch + 1}, Validation Loss: {avg_val_loss:.4f}, Accuracy: {avg_val_accuracy:.4f}\")\n",
        "\n",
        "        # Early stopping\n",
        "        if avg_val_loss < best_val_loss:\n",
        "            best_val_loss = avg_val_loss\n",
        "            epochs_no_improve = 0\n",
        "            torch.save(model.state_dict(), \"/content/drive/My Drive/best_model_50_000.pth\")  # Save the best model\n",
        "            print(\"Validation loss improved. Model saved.\")\n",
        "        else:\n",
        "            epochs_no_improve += 1\n",
        "            print(f\"No improvement in validation loss for {epochs_no_improve} epoch(s).\")\n",
        "\n",
        "            if epochs_no_improve >= patience:\n",
        "                print(\"Early stopping triggered.\")\n",
        "                break\n",
        "else:\n",
        "    # Load the trained model\n",
        "    model = BertForSequenceClassification.from_pretrained(\n",
        "        'bert-base-uncased',\n",
        "        num_labels=5\n",
        "    ).to(device)\n",
        "    model.load_state_dict(torch.load(\"/content/drive/My Drive/best_model_50_000.pth\"))\n",
        "    model.eval()\n",
        "    print(\"Loaded trained model from 'best_model.pth'.\")"
      ]
    },
    {
      "cell_type": "markdown",
      "source": [
        "## Finding HyperParameters"
      ],
      "metadata": {
        "id": "nFSFWc5NAAs7"
      }
    },
    {
      "cell_type": "code",
      "source": [
        "!pip install optuna\n",
        "import optuna\n",
        "import torch\n",
        "from transformers import BertForSequenceClassification, AdamW\n",
        "from torch.utils.data import DataLoader\n",
        "import torch.nn.functional as F"
      ],
      "metadata": {
        "id": "MfEP-EWymjTR"
      },
      "execution_count": null,
      "outputs": []
    },
    {
      "cell_type": "code",
      "source": [
        "\n",
        "# Define the objective function for Optuna\n",
        "def objective(trial, train_loader, val_loader, device, num_epochs=3):\n",
        "    # Sample hyperparameters\n",
        "    lr = trial.suggest_loguniform('lr', 1e-5, 1e-3)\n",
        "    dropout_prob = trial.suggest_uniform('dropout_prob', 0.1, 0.3)\n",
        "\n",
        "    # Initialize the model\n",
        "    model = BertForSequenceClassification.from_pretrained(\n",
        "        'bert-base-uncased',\n",
        "        num_labels=5,\n",
        "        hidden_dropout_prob=dropout_prob\n",
        "    ).to(device)\n",
        "\n",
        "    # Initialize optimizer and loss function\n",
        "    optimizer = AdamW(model.parameters(), lr=lr, weight_decay= 0.01)\n",
        "    loss_fn = torch.nn.CrossEntropyLoss()\n",
        "\n",
        "    # Training loop over multiple epochs\n",
        "    for epoch in range(num_epochs):\n",
        "        model.train()\n",
        "        train_loss = 0\n",
        "        for batch in train_loader:\n",
        "            input_ids, attention_mask, labels = [b.to(device) for b in batch]\n",
        "\n",
        "            optimizer.zero_grad()\n",
        "            outputs = model(input_ids=input_ids, attention_mask=attention_mask)\n",
        "            loss = loss_fn(outputs.logits, labels)\n",
        "            train_loss += loss.item()\n",
        "            loss.backward()\n",
        "            optimizer.step()\n",
        "\n",
        "        avg_train_loss = train_loss / len(train_loader)\n",
        "\n",
        "        # Validation phase\n",
        "        model.eval()\n",
        "        val_loss = 0\n",
        "        val_accuracy = 0\n",
        "        with torch.no_grad():\n",
        "            for batch in val_loader:\n",
        "                input_ids, attention_mask, labels = [b.to(device) for b in batch]\n",
        "                outputs = model(input_ids=input_ids, attention_mask=attention_mask)\n",
        "                loss = loss_fn(outputs.logits, labels)\n",
        "                val_loss += loss.item()\n",
        "\n",
        "                # Calculate accuracy\n",
        "                preds = torch.argmax(outputs.logits, dim=1)\n",
        "                val_accuracy += (preds == labels).float().mean().item()\n",
        "\n",
        "        avg_val_loss = val_loss / len(val_loader)\n",
        "        avg_val_accuracy = val_accuracy / len(val_loader)\n",
        "\n",
        "        # Output validation metrics after each epoch\n",
        "        print(f\"Epoch {epoch + 1}/{num_epochs} - Val Loss: {avg_val_loss:.4f}, Accuracy: {avg_val_accuracy:.4f}\")\n",
        "\n",
        "    return avg_val_loss  # Return the final validation loss after all epochs\n",
        "\n",
        "# Define the hyperparameter optimization function\n",
        "def optimize_hyperparameters(train_loader, val_loader, device, n_trials=10, num_epochs=3):\n",
        "    study = optuna.create_study(direction='minimize')  # Minimize validation loss\n",
        "    study.optimize(lambda trial: objective(trial, train_loader, val_loader, device, num_epochs=num_epochs), n_trials=n_trials)\n",
        "\n",
        "    print(f\"Best hyperparameters: {study.best_params}\")\n",
        "    print(f\"Best validation loss: {study.best_value}\")\n",
        "    return study.best_params\n",
        "\n",
        "# Example for optimizing hyperparameters over 10 trials and 3 epochs\n",
        "best_params = optimize_hyperparameters(train_loader, val_loader, device, n_trials=10, num_epochs=5)"
      ],
      "metadata": {
        "colab": {
          "base_uri": "https://localhost:8080/",
          "height": 1000
        },
        "id": "bvu0fcKXl-g4",
        "outputId": "b268e7d3-ff4b-435a-ccb3-3095dd257597"
      },
      "execution_count": null,
      "outputs": [
        {
          "output_type": "stream",
          "name": "stderr",
          "text": [
            "[I 2024-12-05 12:55:14,191] A new study created in memory with name: no-name-4728a42a-e0f2-4e45-aa73-d0c972237c66\n",
            "<ipython-input-23-99ffbd348f29>:4: FutureWarning: suggest_loguniform has been deprecated in v3.0.0. This feature will be removed in v6.0.0. See https://github.com/optuna/optuna/releases/tag/v3.0.0. Use suggest_float(..., log=True) instead.\n",
            "  lr = trial.suggest_loguniform('lr', 1e-5, 1e-3)\n",
            "<ipython-input-23-99ffbd348f29>:5: FutureWarning: suggest_uniform has been deprecated in v3.0.0. This feature will be removed in v6.0.0. See https://github.com/optuna/optuna/releases/tag/v3.0.0. Use suggest_float instead.\n",
            "  dropout_prob = trial.suggest_uniform('dropout_prob', 0.1, 0.3)\n",
            "Some weights of BertForSequenceClassification were not initialized from the model checkpoint at bert-base-uncased and are newly initialized: ['classifier.bias', 'classifier.weight']\n",
            "You should probably TRAIN this model on a down-stream task to be able to use it for predictions and inference.\n",
            "/usr/local/lib/python3.10/dist-packages/transformers/optimization.py:591: FutureWarning: This implementation of AdamW is deprecated and will be removed in a future version. Use the PyTorch implementation torch.optim.AdamW instead, or set `no_deprecation_warning=True` to disable this warning\n",
            "  warnings.warn(\n"
          ]
        },
        {
          "output_type": "stream",
          "name": "stdout",
          "text": [
            "Epoch 1/5 - Val Loss: 1.1407, Accuracy: 0.4955\n",
            "Epoch 2/5 - Val Loss: 0.9780, Accuracy: 0.5491\n",
            "Epoch 3/5 - Val Loss: 1.2262, Accuracy: 0.5223\n",
            "Epoch 4/5 - Val Loss: 1.2386, Accuracy: 0.5134\n"
          ]
        },
        {
          "output_type": "stream",
          "name": "stderr",
          "text": [
            "[I 2024-12-05 12:58:55,598] Trial 0 finished with value: 1.3467852302959986 and parameters: {'lr': 5.35297954189554e-05, 'dropout_prob': 0.10683116506769999}. Best is trial 0 with value: 1.3467852302959986.\n"
          ]
        },
        {
          "output_type": "stream",
          "name": "stdout",
          "text": [
            "Epoch 5/5 - Val Loss: 1.3468, Accuracy: 0.5536\n"
          ]
        },
        {
          "output_type": "stream",
          "name": "stderr",
          "text": [
            "Some weights of BertForSequenceClassification were not initialized from the model checkpoint at bert-base-uncased and are newly initialized: ['classifier.bias', 'classifier.weight']\n",
            "You should probably TRAIN this model on a down-stream task to be able to use it for predictions and inference.\n"
          ]
        },
        {
          "output_type": "stream",
          "name": "stdout",
          "text": [
            "Epoch 1/5 - Val Loss: 1.6405, Accuracy: 0.2188\n",
            "Epoch 2/5 - Val Loss: 1.6464, Accuracy: 0.1920\n",
            "Epoch 3/5 - Val Loss: 1.6345, Accuracy: 0.1786\n",
            "Epoch 4/5 - Val Loss: 1.6216, Accuracy: 0.2188\n"
          ]
        },
        {
          "output_type": "stream",
          "name": "stderr",
          "text": [
            "[I 2024-12-05 13:02:36,299] Trial 1 finished with value: 1.6404412303652083 and parameters: {'lr': 0.0008390335471474203, 'dropout_prob': 0.29312783876572657}. Best is trial 0 with value: 1.3467852302959986.\n"
          ]
        },
        {
          "output_type": "stream",
          "name": "stdout",
          "text": [
            "Epoch 5/5 - Val Loss: 1.6404, Accuracy: 0.1920\n"
          ]
        },
        {
          "output_type": "stream",
          "name": "stderr",
          "text": [
            "Some weights of BertForSequenceClassification were not initialized from the model checkpoint at bert-base-uncased and are newly initialized: ['classifier.bias', 'classifier.weight']\n",
            "You should probably TRAIN this model on a down-stream task to be able to use it for predictions and inference.\n"
          ]
        },
        {
          "output_type": "stream",
          "name": "stdout",
          "text": [
            "Epoch 1/5 - Val Loss: 1.5427, Accuracy: 0.2902\n",
            "Epoch 2/5 - Val Loss: 1.0757, Accuracy: 0.5045\n",
            "Epoch 3/5 - Val Loss: 1.3634, Accuracy: 0.4509\n",
            "Epoch 4/5 - Val Loss: 1.0863, Accuracy: 0.5580\n"
          ]
        },
        {
          "output_type": "stream",
          "name": "stderr",
          "text": [
            "[I 2024-12-05 13:06:18,971] Trial 2 finished with value: 1.5419658081872123 and parameters: {'lr': 6.684205233608484e-05, 'dropout_prob': 0.10748626652038507}. Best is trial 0 with value: 1.3467852302959986.\n"
          ]
        },
        {
          "output_type": "stream",
          "name": "stdout",
          "text": [
            "Epoch 5/5 - Val Loss: 1.5420, Accuracy: 0.5223\n"
          ]
        },
        {
          "output_type": "stream",
          "name": "stderr",
          "text": [
            "Some weights of BertForSequenceClassification were not initialized from the model checkpoint at bert-base-uncased and are newly initialized: ['classifier.bias', 'classifier.weight']\n",
            "You should probably TRAIN this model on a down-stream task to be able to use it for predictions and inference.\n",
            "[W 2024-12-05 13:06:57,364] Trial 3 failed with parameters: {'lr': 0.00011734115548477867, 'dropout_prob': 0.21903490947194465} because of the following error: KeyboardInterrupt().\n",
            "Traceback (most recent call last):\n",
            "  File \"/usr/local/lib/python3.10/dist-packages/optuna/study/_optimize.py\", line 197, in _run_trial\n",
            "    value_or_values = func(trial)\n",
            "  File \"<ipython-input-23-99ffbd348f29>\", line 60, in <lambda>\n",
            "    study.optimize(lambda trial: objective(trial, train_loader, val_loader, device, num_epochs=num_epochs), n_trials=n_trials)\n",
            "  File \"<ipython-input-23-99ffbd348f29>\", line 28, in objective\n",
            "    train_loss += loss.item()\n",
            "KeyboardInterrupt\n",
            "[W 2024-12-05 13:06:57,370] Trial 3 failed with value None.\n"
          ]
        },
        {
          "output_type": "error",
          "ename": "KeyboardInterrupt",
          "evalue": "",
          "traceback": [
            "\u001b[0;31m---------------------------------------------------------------------------\u001b[0m",
            "\u001b[0;31mKeyboardInterrupt\u001b[0m                         Traceback (most recent call last)",
            "\u001b[0;32m<ipython-input-23-99ffbd348f29>\u001b[0m in \u001b[0;36m<cell line: 67>\u001b[0;34m()\u001b[0m\n\u001b[1;32m     65\u001b[0m \u001b[0;34m\u001b[0m\u001b[0m\n\u001b[1;32m     66\u001b[0m \u001b[0;31m# Example for optimizing hyperparameters over 10 trials and 3 epochs\u001b[0m\u001b[0;34m\u001b[0m\u001b[0;34m\u001b[0m\u001b[0m\n\u001b[0;32m---> 67\u001b[0;31m \u001b[0mbest_params\u001b[0m \u001b[0;34m=\u001b[0m \u001b[0moptimize_hyperparameters\u001b[0m\u001b[0;34m(\u001b[0m\u001b[0mtrain_loader\u001b[0m\u001b[0;34m,\u001b[0m \u001b[0mval_loader\u001b[0m\u001b[0;34m,\u001b[0m \u001b[0mdevice\u001b[0m\u001b[0;34m,\u001b[0m \u001b[0mn_trials\u001b[0m\u001b[0;34m=\u001b[0m\u001b[0;36m10\u001b[0m\u001b[0;34m,\u001b[0m \u001b[0mnum_epochs\u001b[0m\u001b[0;34m=\u001b[0m\u001b[0;36m5\u001b[0m\u001b[0;34m)\u001b[0m\u001b[0;34m\u001b[0m\u001b[0;34m\u001b[0m\u001b[0m\n\u001b[0m",
            "\u001b[0;32m<ipython-input-23-99ffbd348f29>\u001b[0m in \u001b[0;36moptimize_hyperparameters\u001b[0;34m(train_loader, val_loader, device, n_trials, num_epochs)\u001b[0m\n\u001b[1;32m     58\u001b[0m \u001b[0;32mdef\u001b[0m \u001b[0moptimize_hyperparameters\u001b[0m\u001b[0;34m(\u001b[0m\u001b[0mtrain_loader\u001b[0m\u001b[0;34m,\u001b[0m \u001b[0mval_loader\u001b[0m\u001b[0;34m,\u001b[0m \u001b[0mdevice\u001b[0m\u001b[0;34m,\u001b[0m \u001b[0mn_trials\u001b[0m\u001b[0;34m=\u001b[0m\u001b[0;36m10\u001b[0m\u001b[0;34m,\u001b[0m \u001b[0mnum_epochs\u001b[0m\u001b[0;34m=\u001b[0m\u001b[0;36m3\u001b[0m\u001b[0;34m)\u001b[0m\u001b[0;34m:\u001b[0m\u001b[0;34m\u001b[0m\u001b[0;34m\u001b[0m\u001b[0m\n\u001b[1;32m     59\u001b[0m     \u001b[0mstudy\u001b[0m \u001b[0;34m=\u001b[0m \u001b[0moptuna\u001b[0m\u001b[0;34m.\u001b[0m\u001b[0mcreate_study\u001b[0m\u001b[0;34m(\u001b[0m\u001b[0mdirection\u001b[0m\u001b[0;34m=\u001b[0m\u001b[0;34m'minimize'\u001b[0m\u001b[0;34m)\u001b[0m  \u001b[0;31m# Minimize validation loss\u001b[0m\u001b[0;34m\u001b[0m\u001b[0;34m\u001b[0m\u001b[0m\n\u001b[0;32m---> 60\u001b[0;31m     \u001b[0mstudy\u001b[0m\u001b[0;34m.\u001b[0m\u001b[0moptimize\u001b[0m\u001b[0;34m(\u001b[0m\u001b[0;32mlambda\u001b[0m \u001b[0mtrial\u001b[0m\u001b[0;34m:\u001b[0m \u001b[0mobjective\u001b[0m\u001b[0;34m(\u001b[0m\u001b[0mtrial\u001b[0m\u001b[0;34m,\u001b[0m \u001b[0mtrain_loader\u001b[0m\u001b[0;34m,\u001b[0m \u001b[0mval_loader\u001b[0m\u001b[0;34m,\u001b[0m \u001b[0mdevice\u001b[0m\u001b[0;34m,\u001b[0m \u001b[0mnum_epochs\u001b[0m\u001b[0;34m=\u001b[0m\u001b[0mnum_epochs\u001b[0m\u001b[0;34m)\u001b[0m\u001b[0;34m,\u001b[0m \u001b[0mn_trials\u001b[0m\u001b[0;34m=\u001b[0m\u001b[0mn_trials\u001b[0m\u001b[0;34m)\u001b[0m\u001b[0;34m\u001b[0m\u001b[0;34m\u001b[0m\u001b[0m\n\u001b[0m\u001b[1;32m     61\u001b[0m \u001b[0;34m\u001b[0m\u001b[0m\n\u001b[1;32m     62\u001b[0m     \u001b[0mprint\u001b[0m\u001b[0;34m(\u001b[0m\u001b[0;34mf\"Best hyperparameters: {study.best_params}\"\u001b[0m\u001b[0;34m)\u001b[0m\u001b[0;34m\u001b[0m\u001b[0;34m\u001b[0m\u001b[0m\n",
            "\u001b[0;32m/usr/local/lib/python3.10/dist-packages/optuna/study/study.py\u001b[0m in \u001b[0;36moptimize\u001b[0;34m(self, func, n_trials, timeout, n_jobs, catch, callbacks, gc_after_trial, show_progress_bar)\u001b[0m\n\u001b[1;32m    473\u001b[0m                 \u001b[0mIf\u001b[0m \u001b[0mnested\u001b[0m \u001b[0minvocation\u001b[0m \u001b[0mof\u001b[0m \u001b[0mthis\u001b[0m \u001b[0mmethod\u001b[0m \u001b[0moccurs\u001b[0m\u001b[0;34m.\u001b[0m\u001b[0;34m\u001b[0m\u001b[0;34m\u001b[0m\u001b[0m\n\u001b[1;32m    474\u001b[0m         \"\"\"\n\u001b[0;32m--> 475\u001b[0;31m         _optimize(\n\u001b[0m\u001b[1;32m    476\u001b[0m             \u001b[0mstudy\u001b[0m\u001b[0;34m=\u001b[0m\u001b[0mself\u001b[0m\u001b[0;34m,\u001b[0m\u001b[0;34m\u001b[0m\u001b[0;34m\u001b[0m\u001b[0m\n\u001b[1;32m    477\u001b[0m             \u001b[0mfunc\u001b[0m\u001b[0;34m=\u001b[0m\u001b[0mfunc\u001b[0m\u001b[0;34m,\u001b[0m\u001b[0;34m\u001b[0m\u001b[0;34m\u001b[0m\u001b[0m\n",
            "\u001b[0;32m/usr/local/lib/python3.10/dist-packages/optuna/study/_optimize.py\u001b[0m in \u001b[0;36m_optimize\u001b[0;34m(study, func, n_trials, timeout, n_jobs, catch, callbacks, gc_after_trial, show_progress_bar)\u001b[0m\n\u001b[1;32m     61\u001b[0m     \u001b[0;32mtry\u001b[0m\u001b[0;34m:\u001b[0m\u001b[0;34m\u001b[0m\u001b[0;34m\u001b[0m\u001b[0m\n\u001b[1;32m     62\u001b[0m         \u001b[0;32mif\u001b[0m \u001b[0mn_jobs\u001b[0m \u001b[0;34m==\u001b[0m \u001b[0;36m1\u001b[0m\u001b[0;34m:\u001b[0m\u001b[0;34m\u001b[0m\u001b[0;34m\u001b[0m\u001b[0m\n\u001b[0;32m---> 63\u001b[0;31m             _optimize_sequential(\n\u001b[0m\u001b[1;32m     64\u001b[0m                 \u001b[0mstudy\u001b[0m\u001b[0;34m,\u001b[0m\u001b[0;34m\u001b[0m\u001b[0;34m\u001b[0m\u001b[0m\n\u001b[1;32m     65\u001b[0m                 \u001b[0mfunc\u001b[0m\u001b[0;34m,\u001b[0m\u001b[0;34m\u001b[0m\u001b[0;34m\u001b[0m\u001b[0m\n",
            "\u001b[0;32m/usr/local/lib/python3.10/dist-packages/optuna/study/_optimize.py\u001b[0m in \u001b[0;36m_optimize_sequential\u001b[0;34m(study, func, n_trials, timeout, catch, callbacks, gc_after_trial, reseed_sampler_rng, time_start, progress_bar)\u001b[0m\n\u001b[1;32m    158\u001b[0m \u001b[0;34m\u001b[0m\u001b[0m\n\u001b[1;32m    159\u001b[0m         \u001b[0;32mtry\u001b[0m\u001b[0;34m:\u001b[0m\u001b[0;34m\u001b[0m\u001b[0;34m\u001b[0m\u001b[0m\n\u001b[0;32m--> 160\u001b[0;31m             \u001b[0mfrozen_trial\u001b[0m \u001b[0;34m=\u001b[0m \u001b[0m_run_trial\u001b[0m\u001b[0;34m(\u001b[0m\u001b[0mstudy\u001b[0m\u001b[0;34m,\u001b[0m \u001b[0mfunc\u001b[0m\u001b[0;34m,\u001b[0m \u001b[0mcatch\u001b[0m\u001b[0;34m)\u001b[0m\u001b[0;34m\u001b[0m\u001b[0;34m\u001b[0m\u001b[0m\n\u001b[0m\u001b[1;32m    161\u001b[0m         \u001b[0;32mfinally\u001b[0m\u001b[0;34m:\u001b[0m\u001b[0;34m\u001b[0m\u001b[0;34m\u001b[0m\u001b[0m\n\u001b[1;32m    162\u001b[0m             \u001b[0;31m# The following line mitigates memory problems that can be occurred in some\u001b[0m\u001b[0;34m\u001b[0m\u001b[0;34m\u001b[0m\u001b[0m\n",
            "\u001b[0;32m/usr/local/lib/python3.10/dist-packages/optuna/study/_optimize.py\u001b[0m in \u001b[0;36m_run_trial\u001b[0;34m(study, func, catch)\u001b[0m\n\u001b[1;32m    246\u001b[0m         \u001b[0;32mand\u001b[0m \u001b[0;32mnot\u001b[0m \u001b[0misinstance\u001b[0m\u001b[0;34m(\u001b[0m\u001b[0mfunc_err\u001b[0m\u001b[0;34m,\u001b[0m \u001b[0mcatch\u001b[0m\u001b[0;34m)\u001b[0m\u001b[0;34m\u001b[0m\u001b[0;34m\u001b[0m\u001b[0m\n\u001b[1;32m    247\u001b[0m     ):\n\u001b[0;32m--> 248\u001b[0;31m         \u001b[0;32mraise\u001b[0m \u001b[0mfunc_err\u001b[0m\u001b[0;34m\u001b[0m\u001b[0;34m\u001b[0m\u001b[0m\n\u001b[0m\u001b[1;32m    249\u001b[0m     \u001b[0;32mreturn\u001b[0m \u001b[0mfrozen_trial\u001b[0m\u001b[0;34m\u001b[0m\u001b[0;34m\u001b[0m\u001b[0m\n\u001b[1;32m    250\u001b[0m \u001b[0;34m\u001b[0m\u001b[0m\n",
            "\u001b[0;32m/usr/local/lib/python3.10/dist-packages/optuna/study/_optimize.py\u001b[0m in \u001b[0;36m_run_trial\u001b[0;34m(study, func, catch)\u001b[0m\n\u001b[1;32m    195\u001b[0m     \u001b[0;32mwith\u001b[0m \u001b[0mget_heartbeat_thread\u001b[0m\u001b[0;34m(\u001b[0m\u001b[0mtrial\u001b[0m\u001b[0;34m.\u001b[0m\u001b[0m_trial_id\u001b[0m\u001b[0;34m,\u001b[0m \u001b[0mstudy\u001b[0m\u001b[0;34m.\u001b[0m\u001b[0m_storage\u001b[0m\u001b[0;34m)\u001b[0m\u001b[0;34m:\u001b[0m\u001b[0;34m\u001b[0m\u001b[0;34m\u001b[0m\u001b[0m\n\u001b[1;32m    196\u001b[0m         \u001b[0;32mtry\u001b[0m\u001b[0;34m:\u001b[0m\u001b[0;34m\u001b[0m\u001b[0;34m\u001b[0m\u001b[0m\n\u001b[0;32m--> 197\u001b[0;31m             \u001b[0mvalue_or_values\u001b[0m \u001b[0;34m=\u001b[0m \u001b[0mfunc\u001b[0m\u001b[0;34m(\u001b[0m\u001b[0mtrial\u001b[0m\u001b[0;34m)\u001b[0m\u001b[0;34m\u001b[0m\u001b[0;34m\u001b[0m\u001b[0m\n\u001b[0m\u001b[1;32m    198\u001b[0m         \u001b[0;32mexcept\u001b[0m \u001b[0mexceptions\u001b[0m\u001b[0;34m.\u001b[0m\u001b[0mTrialPruned\u001b[0m \u001b[0;32mas\u001b[0m \u001b[0me\u001b[0m\u001b[0;34m:\u001b[0m\u001b[0;34m\u001b[0m\u001b[0;34m\u001b[0m\u001b[0m\n\u001b[1;32m    199\u001b[0m             \u001b[0;31m# TODO(mamu): Handle multi-objective cases.\u001b[0m\u001b[0;34m\u001b[0m\u001b[0;34m\u001b[0m\u001b[0m\n",
            "\u001b[0;32m<ipython-input-23-99ffbd348f29>\u001b[0m in \u001b[0;36m<lambda>\u001b[0;34m(trial)\u001b[0m\n\u001b[1;32m     58\u001b[0m \u001b[0;32mdef\u001b[0m \u001b[0moptimize_hyperparameters\u001b[0m\u001b[0;34m(\u001b[0m\u001b[0mtrain_loader\u001b[0m\u001b[0;34m,\u001b[0m \u001b[0mval_loader\u001b[0m\u001b[0;34m,\u001b[0m \u001b[0mdevice\u001b[0m\u001b[0;34m,\u001b[0m \u001b[0mn_trials\u001b[0m\u001b[0;34m=\u001b[0m\u001b[0;36m10\u001b[0m\u001b[0;34m,\u001b[0m \u001b[0mnum_epochs\u001b[0m\u001b[0;34m=\u001b[0m\u001b[0;36m3\u001b[0m\u001b[0;34m)\u001b[0m\u001b[0;34m:\u001b[0m\u001b[0;34m\u001b[0m\u001b[0;34m\u001b[0m\u001b[0m\n\u001b[1;32m     59\u001b[0m     \u001b[0mstudy\u001b[0m \u001b[0;34m=\u001b[0m \u001b[0moptuna\u001b[0m\u001b[0;34m.\u001b[0m\u001b[0mcreate_study\u001b[0m\u001b[0;34m(\u001b[0m\u001b[0mdirection\u001b[0m\u001b[0;34m=\u001b[0m\u001b[0;34m'minimize'\u001b[0m\u001b[0;34m)\u001b[0m  \u001b[0;31m# Minimize validation loss\u001b[0m\u001b[0;34m\u001b[0m\u001b[0;34m\u001b[0m\u001b[0m\n\u001b[0;32m---> 60\u001b[0;31m     \u001b[0mstudy\u001b[0m\u001b[0;34m.\u001b[0m\u001b[0moptimize\u001b[0m\u001b[0;34m(\u001b[0m\u001b[0;32mlambda\u001b[0m \u001b[0mtrial\u001b[0m\u001b[0;34m:\u001b[0m \u001b[0mobjective\u001b[0m\u001b[0;34m(\u001b[0m\u001b[0mtrial\u001b[0m\u001b[0;34m,\u001b[0m \u001b[0mtrain_loader\u001b[0m\u001b[0;34m,\u001b[0m \u001b[0mval_loader\u001b[0m\u001b[0;34m,\u001b[0m \u001b[0mdevice\u001b[0m\u001b[0;34m,\u001b[0m \u001b[0mnum_epochs\u001b[0m\u001b[0;34m=\u001b[0m\u001b[0mnum_epochs\u001b[0m\u001b[0;34m)\u001b[0m\u001b[0;34m,\u001b[0m \u001b[0mn_trials\u001b[0m\u001b[0;34m=\u001b[0m\u001b[0mn_trials\u001b[0m\u001b[0;34m)\u001b[0m\u001b[0;34m\u001b[0m\u001b[0;34m\u001b[0m\u001b[0m\n\u001b[0m\u001b[1;32m     61\u001b[0m \u001b[0;34m\u001b[0m\u001b[0m\n\u001b[1;32m     62\u001b[0m     \u001b[0mprint\u001b[0m\u001b[0;34m(\u001b[0m\u001b[0;34mf\"Best hyperparameters: {study.best_params}\"\u001b[0m\u001b[0;34m)\u001b[0m\u001b[0;34m\u001b[0m\u001b[0;34m\u001b[0m\u001b[0m\n",
            "\u001b[0;32m<ipython-input-23-99ffbd348f29>\u001b[0m in \u001b[0;36mobjective\u001b[0;34m(trial, train_loader, val_loader, device, num_epochs)\u001b[0m\n\u001b[1;32m     26\u001b[0m             \u001b[0moutputs\u001b[0m \u001b[0;34m=\u001b[0m \u001b[0mmodel\u001b[0m\u001b[0;34m(\u001b[0m\u001b[0minput_ids\u001b[0m\u001b[0;34m=\u001b[0m\u001b[0minput_ids\u001b[0m\u001b[0;34m,\u001b[0m \u001b[0mattention_mask\u001b[0m\u001b[0;34m=\u001b[0m\u001b[0mattention_mask\u001b[0m\u001b[0;34m)\u001b[0m\u001b[0;34m\u001b[0m\u001b[0;34m\u001b[0m\u001b[0m\n\u001b[1;32m     27\u001b[0m             \u001b[0mloss\u001b[0m \u001b[0;34m=\u001b[0m \u001b[0mloss_fn\u001b[0m\u001b[0;34m(\u001b[0m\u001b[0moutputs\u001b[0m\u001b[0;34m.\u001b[0m\u001b[0mlogits\u001b[0m\u001b[0;34m,\u001b[0m \u001b[0mlabels\u001b[0m\u001b[0;34m)\u001b[0m\u001b[0;34m\u001b[0m\u001b[0;34m\u001b[0m\u001b[0m\n\u001b[0;32m---> 28\u001b[0;31m             \u001b[0mtrain_loss\u001b[0m \u001b[0;34m+=\u001b[0m \u001b[0mloss\u001b[0m\u001b[0;34m.\u001b[0m\u001b[0mitem\u001b[0m\u001b[0;34m(\u001b[0m\u001b[0;34m)\u001b[0m\u001b[0;34m\u001b[0m\u001b[0;34m\u001b[0m\u001b[0m\n\u001b[0m\u001b[1;32m     29\u001b[0m             \u001b[0mloss\u001b[0m\u001b[0;34m.\u001b[0m\u001b[0mbackward\u001b[0m\u001b[0;34m(\u001b[0m\u001b[0;34m)\u001b[0m\u001b[0;34m\u001b[0m\u001b[0;34m\u001b[0m\u001b[0m\n\u001b[1;32m     30\u001b[0m             \u001b[0moptimizer\u001b[0m\u001b[0;34m.\u001b[0m\u001b[0mstep\u001b[0m\u001b[0;34m(\u001b[0m\u001b[0;34m)\u001b[0m\u001b[0;34m\u001b[0m\u001b[0;34m\u001b[0m\u001b[0m\n",
            "\u001b[0;31mKeyboardInterrupt\u001b[0m: "
          ]
        }
      ]
    },
    {
      "cell_type": "code",
      "execution_count": null,
      "metadata": {
        "id": "Mr2NxI1DhemN"
      },
      "outputs": [],
      "source": [
        "# Create TensorDatasets\n",
        "train_dataset = TensorDataset(train_inputs['input_ids'], train_inputs['attention_mask'], train_labels)\n",
        "val_dataset = TensorDataset(val_inputs['input_ids'], val_inputs['attention_mask'], val_labels)\n",
        "test_dataset = TensorDataset(test_inputs['input_ids'], test_inputs['attention_mask'], test_labels)\n",
        "\n",
        "# Create DataLoaders\n",
        "train_loader = DataLoader(train_dataset, batch_size=64, shuffle=True)\n",
        "val_loader = DataLoader(val_dataset, batch_size=32)\n",
        "test_loader = DataLoader(test_dataset, batch_size=32)"
      ]
    },
    {
      "cell_type": "code",
      "source": [
        "# Display the first few rows of the tokenized inputs and labels\n",
        "print(\"First few tokenized reviews (inputs):\")\n",
        "print(train_inputs['input_ids'][:5])  # Access the 'input_ids' tensor and slice to get the first 5"
      ],
      "metadata": {
        "colab": {
          "base_uri": "https://localhost:8080/"
        },
        "id": "4Wko7D8irDYG",
        "outputId": "00754004-8d3e-4348-ba97-6f9b6ca25baf"
      },
      "execution_count": null,
      "outputs": [
        {
          "output_type": "stream",
          "name": "stdout",
          "text": [
            "First few tokenized reviews (inputs):\n",
            "tensor([[ 101, 2234, 2182,  ..., 2172, 8808,  102],\n",
            "        [ 101, 1037, 2307,  ..., 1045, 2876,  102],\n",
            "        [ 101, 1045, 1005,  ...,    0,    0,    0],\n",
            "        [ 101, 2023, 2173,  ...,    0,    0,    0],\n",
            "        [ 101, 2234, 1999,  ...,    0,    0,    0]])\n"
          ]
        }
      ]
    },
    {
      "cell_type": "code",
      "execution_count": null,
      "metadata": {
        "id": "tGDEE6RWgt1B"
      },
      "outputs": [],
      "source": [
        "# Control whether to train or load the model\n",
        "TRAIN_MODEL = False  # Set to True to train; False to load and evaluate/predict"
      ]
    },
    {
      "cell_type": "code",
      "execution_count": null,
      "metadata": {
        "colab": {
          "base_uri": "https://localhost:8080/"
        },
        "id": "iNYtQlldhirv",
        "outputId": "e592058e-2849-4b91-81fb-b67112736d1c"
      },
      "outputs": [
        {
          "output_type": "stream",
          "name": "stderr",
          "text": [
            "Some weights of BertForSequenceClassification were not initialized from the model checkpoint at bert-base-uncased and are newly initialized: ['classifier.bias', 'classifier.weight']\n",
            "You should probably TRAIN this model on a down-stream task to be able to use it for predictions and inference.\n",
            "<ipython-input-21-76cff6d783b3>:88: FutureWarning: You are using `torch.load` with `weights_only=False` (the current default value), which uses the default pickle module implicitly. It is possible to construct malicious pickle data which will execute arbitrary code during unpickling (See https://github.com/pytorch/pytorch/blob/main/SECURITY.md#untrusted-models for more details). In a future release, the default value for `weights_only` will be flipped to `True`. This limits the functions that could be executed during unpickling. Arbitrary objects will no longer be allowed to be loaded via this mode unless they are explicitly allowlisted by the user via `torch.serialization.add_safe_globals`. We recommend you start setting `weights_only=True` for any use case where you don't have full control of the loaded file. Please open an issue on GitHub for any issues related to this experimental feature.\n",
            "  model.load_state_dict(torch.load(\"/content/drive/My Drive/best_model_50_000.pth\"))\n"
          ]
        },
        {
          "output_type": "stream",
          "name": "stdout",
          "text": [
            "Loaded trained model from 'best_model.pth'.\n"
          ]
        }
      ],
      "source": [
        "# Initialize device\n",
        "device = torch.device('cuda' if torch.cuda.is_available() else 'cpu')\n",
        "\n",
        "if TRAIN_MODEL:\n",
        "    # Initialize model, optimizer, and loss\n",
        "    model = BertForSequenceClassification.from_pretrained(\n",
        "        'bert-base-uncased',\n",
        "        num_labels=5,\n",
        "        hidden_dropout_prob=0.2\n",
        "    ).to(device)\n",
        "\n",
        "    optimizer = AdamW(model.parameters(), lr= 1.7e-5 , weight_decay=0.01)\n",
        "    loss_fn = torch.nn.CrossEntropyLoss()\n",
        "\n",
        "    #Freeze the first 4 layers of BERT encoder\n",
        "    for param in model.bert.encoder.layer[:4].parameters():\n",
        "      param.requires_grad = False\n",
        "\n",
        "    # Early stopping parameters\n",
        "    patience = 2  # Stop training after 3 epochs with no improvement\n",
        "    best_val_loss = float('inf')\n",
        "    epochs_no_improve = 0\n",
        "    epochs = 7 # Max number of epochs\n",
        "\n",
        "    # Training loop\n",
        "    for epoch in range(epochs):\n",
        "        # Training phase\n",
        "        model.train()\n",
        "        train_loss = 0\n",
        "\n",
        "        for batch in tqdm(train_loader, desc=f\"Training Epoch {epoch + 1}\"):\n",
        "            input_ids, attention_mask, labels = [b.to(device) for b in batch]\n",
        "\n",
        "            # Forward pass\n",
        "            outputs = model(input_ids=input_ids, attention_mask=attention_mask)\n",
        "            loss = loss_fn(outputs.logits, labels)\n",
        "            train_loss += loss.item()\n",
        "\n",
        "            # Backward pass\n",
        "            optimizer.zero_grad()\n",
        "            loss.backward()\n",
        "            optimizer.step()\n",
        "\n",
        "        avg_train_loss = train_loss / len(train_loader)\n",
        "        print(f\"Epoch {epoch + 1}, Training Loss: {avg_train_loss:.4f}\")\n",
        "\n",
        "        # Validation phase\n",
        "        model.eval()\n",
        "        val_loss = 0  # Initialize val_loss\n",
        "        val_accuracy = 0  # Initialize val_accuracy\n",
        "\n",
        "        with torch.no_grad():\n",
        "            for batch in tqdm(val_loader, desc=f\"Validation Epoch {epoch + 1}\"):\n",
        "                input_ids, attention_mask, labels = [b.to(device) for b in batch]\n",
        "\n",
        "                # Forward pass\n",
        "                outputs = model(input_ids=input_ids, attention_mask=attention_mask)\n",
        "                loss = loss_fn(outputs.logits, labels)\n",
        "                val_loss += loss.item()\n",
        "\n",
        "                # Calculate accuracy\n",
        "                preds = torch.argmax(outputs.logits, dim=1)\n",
        "                val_accuracy += (preds == labels).float().mean().item()\n",
        "\n",
        "        avg_val_loss = val_loss / len(val_loader)\n",
        "        avg_val_accuracy = val_accuracy / len(val_loader)\n",
        "        print(f\"Epoch {epoch + 1}, Validation Loss: {avg_val_loss:.4f}, Accuracy: {avg_val_accuracy:.4f}\")\n",
        "\n",
        "        # Early stopping\n",
        "        if avg_val_loss < best_val_loss:\n",
        "            best_val_loss = avg_val_loss\n",
        "            epochs_no_improve = 0\n",
        "            torch.save(model.state_dict(), \"/content/drive/My Drive/best_model_50_000.pth\")  # Save the best model\n",
        "            print(\"Validation loss improved. Model saved.\")\n",
        "        else:\n",
        "            epochs_no_improve += 1\n",
        "            print(f\"No improvement in validation loss for {epochs_no_improve} epoch(s).\")\n",
        "\n",
        "            if epochs_no_improve >= patience:\n",
        "                print(\"Early stopping triggered.\")\n",
        "                break\n",
        "else:\n",
        "    # Load the trained model\n",
        "    model = BertForSequenceClassification.from_pretrained(\n",
        "        'bert-base-uncased',\n",
        "        num_labels=5\n",
        "    ).to(device)\n",
        "    model.load_state_dict(torch.load(\"/content/drive/My Drive/best_model_50_000.pth\"))\n",
        "    model.eval()\n",
        "    print(\"Loaded trained model from 'best_model.pth'.\")"
      ]
    },
    {
      "cell_type": "markdown",
      "source": [
        "## Model evaluation / Dataframe"
      ],
      "metadata": {
        "id": "k82RuLwEAG2O"
      }
    },
    {
      "cell_type": "code",
      "source": [
        "import torch\n",
        "import numpy as np\n",
        "import pandas as pd\n",
        "\n",
        "# Initialize device and model\n",
        "device = torch.device('cuda' if torch.cuda.is_available() else 'cpu')\n",
        "model = BertForSequenceClassification.from_pretrained('bert-base-uncased', num_labels=5).to(device)\n",
        "model.load_state_dict(torch.load(\"/content/drive/My Drive/best_model_50_000.pth\"))\n",
        "model.eval()\n",
        "\n",
        "# Cache test set results\n",
        "test_results = {\"logits\": [], \"probs\": [], \"true_labels\": [], \"predictions\": [], \"texts\": []}\n",
        "\n",
        "# Process test set in a single pass\n",
        "with torch.no_grad():\n",
        "    for batch_idx, batch in enumerate(test_loader):\n",
        "        input_ids, attention_mask, labels = [b.to(device) for b in batch]\n",
        "\n",
        "        # Forward pass to get logits\n",
        "        outputs = model(input_ids=input_ids, attention_mask=attention_mask)\n",
        "        logits = outputs.logits\n",
        "        probs = torch.softmax(logits, dim=1)  # Convert logits to probabilities\n",
        "        preds = torch.argmax(probs, dim=1)  # Predicted class labels\n",
        "\n",
        "        # Save results\n",
        "        test_results[\"logits\"].append(logits.cpu().numpy())\n",
        "        test_results[\"probs\"].append(probs.cpu().numpy())\n",
        "        test_results[\"true_labels\"].append(labels.cpu().numpy())\n",
        "        test_results[\"predictions\"].append(preds.cpu().numpy())\n",
        "\n",
        "        # Save original text data if available in test_subset\n",
        "        for idx_in_batch in range(len(labels)):\n",
        "            original_text = test_subset.iloc[batch_idx * test_loader.batch_size + idx_in_batch]['review']\n",
        "            test_results[\"texts\"].append(original_text)\n",
        "\n",
        "# Convert lists to numpy arrays for easier processing\n",
        "test_results[\"logits\"] = np.vstack(test_results[\"logits\"])\n",
        "test_results[\"probs\"] = np.vstack(test_results[\"probs\"])\n",
        "test_results[\"true_labels\"] = np.concatenate(test_results[\"true_labels\"])\n",
        "test_results[\"predictions\"] = np.concatenate(test_results[\"predictions\"])\n",
        "\n",
        "# Optional: Convert to Pandas DataFrame for structured analysis\n",
        "test_df = pd.DataFrame({\n",
        "    \"text\": test_results[\"texts\"],\n",
        "    \"true_label\": test_results[\"true_labels\"],\n",
        "    \"prediction\": test_results[\"predictions\"],\n",
        "    \"logits\": list(test_results[\"logits\"]),\n",
        "    \"probs\": list(test_results[\"probs\"]),\n",
        "})\n",
        "\n",
        "# Display the first few rows of the DataFrame\n",
        "test_df.head()\n"
      ],
      "metadata": {
        "colab": {
          "base_uri": "https://localhost:8080/",
          "height": 295
        },
        "id": "fb6_nI3gwRsF",
        "outputId": "79332836-c549-4f09-88e9-0e862ea9ec5e"
      },
      "execution_count": null,
      "outputs": [
        {
          "output_type": "stream",
          "name": "stderr",
          "text": [
            "Some weights of BertForSequenceClassification were not initialized from the model checkpoint at bert-base-uncased and are newly initialized: ['classifier.bias', 'classifier.weight']\n",
            "You should probably TRAIN this model on a down-stream task to be able to use it for predictions and inference.\n",
            "<ipython-input-48-6d1a19737916>:8: FutureWarning: You are using `torch.load` with `weights_only=False` (the current default value), which uses the default pickle module implicitly. It is possible to construct malicious pickle data which will execute arbitrary code during unpickling (See https://github.com/pytorch/pytorch/blob/main/SECURITY.md#untrusted-models for more details). In a future release, the default value for `weights_only` will be flipped to `True`. This limits the functions that could be executed during unpickling. Arbitrary objects will no longer be allowed to be loaded via this mode unless they are explicitly allowlisted by the user via `torch.serialization.add_safe_globals`. We recommend you start setting `weights_only=True` for any use case where you don't have full control of the loaded file. Please open an issue on GitHub for any issues related to this experimental feature.\n",
            "  model.load_state_dict(torch.load(\"/content/drive/My Drive/best_model_50_000.pth\"))\n"
          ]
        },
        {
          "output_type": "execute_result",
          "data": {
            "text/plain": [
              "                                                text  true_label  prediction  \\\n",
              "0  SAGE IS  NOW UNDER NEW MANAGEMENT!! Food porti...           0           0   \n",
              "1  Tried out this joint since I'm a real ramen lo...           0           1   \n",
              "2  Superb!  My husband and I LOVE Glenway Premium...           4           3   \n",
              "3  Eh, this market was OK, but it didn't do it fo...           2           2   \n",
              "4  OK heres the deal...I went here on a sunday ju...           0           0   \n",
              "\n",
              "                                              logits  \\\n",
              "0  [2.1324685, 1.6572948, 0.17278333, -1.5828129,...   \n",
              "1  [3.413959, 3.4634078, 0.63320374, -2.8047848, ...   \n",
              "2  [-3.3812227, -1.4412383, 0.37270737, 2.701495,...   \n",
              "3  [-0.8213199, 2.3303132, 3.055419, -0.65740883,...   \n",
              "4  [4.7647343, 2.6749473, -0.42279184, -3.017781,...   \n",
              "\n",
              "                                               probs  \n",
              "0  [0.55284214, 0.34374455, 0.077897, 0.013460925...  \n",
              "1  [0.4727253, 0.49668857, 0.029305032, 0.0009415...  \n",
              "2  [0.0013362851, 0.009298734, 0.057044048, 0.585...  \n",
              "3  [0.01353241, 0.31630933, 0.6531628, 0.01594266...  \n",
              "4  [0.8849103, 0.10947534, 0.0049429387, 0.000368...  "
            ],
            "text/html": [
              "\n",
              "  <div id=\"df-e46fb1d6-a77a-4dad-8c76-00429195aa16\" class=\"colab-df-container\">\n",
              "    <div>\n",
              "<style scoped>\n",
              "    .dataframe tbody tr th:only-of-type {\n",
              "        vertical-align: middle;\n",
              "    }\n",
              "\n",
              "    .dataframe tbody tr th {\n",
              "        vertical-align: top;\n",
              "    }\n",
              "\n",
              "    .dataframe thead th {\n",
              "        text-align: right;\n",
              "    }\n",
              "</style>\n",
              "<table border=\"1\" class=\"dataframe\">\n",
              "  <thead>\n",
              "    <tr style=\"text-align: right;\">\n",
              "      <th></th>\n",
              "      <th>text</th>\n",
              "      <th>true_label</th>\n",
              "      <th>prediction</th>\n",
              "      <th>logits</th>\n",
              "      <th>probs</th>\n",
              "    </tr>\n",
              "  </thead>\n",
              "  <tbody>\n",
              "    <tr>\n",
              "      <th>0</th>\n",
              "      <td>SAGE IS  NOW UNDER NEW MANAGEMENT!! Food porti...</td>\n",
              "      <td>0</td>\n",
              "      <td>0</td>\n",
              "      <td>[2.1324685, 1.6572948, 0.17278333, -1.5828129,...</td>\n",
              "      <td>[0.55284214, 0.34374455, 0.077897, 0.013460925...</td>\n",
              "    </tr>\n",
              "    <tr>\n",
              "      <th>1</th>\n",
              "      <td>Tried out this joint since I'm a real ramen lo...</td>\n",
              "      <td>0</td>\n",
              "      <td>1</td>\n",
              "      <td>[3.413959, 3.4634078, 0.63320374, -2.8047848, ...</td>\n",
              "      <td>[0.4727253, 0.49668857, 0.029305032, 0.0009415...</td>\n",
              "    </tr>\n",
              "    <tr>\n",
              "      <th>2</th>\n",
              "      <td>Superb!  My husband and I LOVE Glenway Premium...</td>\n",
              "      <td>4</td>\n",
              "      <td>3</td>\n",
              "      <td>[-3.3812227, -1.4412383, 0.37270737, 2.701495,...</td>\n",
              "      <td>[0.0013362851, 0.009298734, 0.057044048, 0.585...</td>\n",
              "    </tr>\n",
              "    <tr>\n",
              "      <th>3</th>\n",
              "      <td>Eh, this market was OK, but it didn't do it fo...</td>\n",
              "      <td>2</td>\n",
              "      <td>2</td>\n",
              "      <td>[-0.8213199, 2.3303132, 3.055419, -0.65740883,...</td>\n",
              "      <td>[0.01353241, 0.31630933, 0.6531628, 0.01594266...</td>\n",
              "    </tr>\n",
              "    <tr>\n",
              "      <th>4</th>\n",
              "      <td>OK heres the deal...I went here on a sunday ju...</td>\n",
              "      <td>0</td>\n",
              "      <td>0</td>\n",
              "      <td>[4.7647343, 2.6749473, -0.42279184, -3.017781,...</td>\n",
              "      <td>[0.8849103, 0.10947534, 0.0049429387, 0.000368...</td>\n",
              "    </tr>\n",
              "  </tbody>\n",
              "</table>\n",
              "</div>\n",
              "    <div class=\"colab-df-buttons\">\n",
              "\n",
              "  <div class=\"colab-df-container\">\n",
              "    <button class=\"colab-df-convert\" onclick=\"convertToInteractive('df-e46fb1d6-a77a-4dad-8c76-00429195aa16')\"\n",
              "            title=\"Convert this dataframe to an interactive table.\"\n",
              "            style=\"display:none;\">\n",
              "\n",
              "  <svg xmlns=\"http://www.w3.org/2000/svg\" height=\"24px\" viewBox=\"0 -960 960 960\">\n",
              "    <path d=\"M120-120v-720h720v720H120Zm60-500h600v-160H180v160Zm220 220h160v-160H400v160Zm0 220h160v-160H400v160ZM180-400h160v-160H180v160Zm440 0h160v-160H620v160ZM180-180h160v-160H180v160Zm440 0h160v-160H620v160Z\"/>\n",
              "  </svg>\n",
              "    </button>\n",
              "\n",
              "  <style>\n",
              "    .colab-df-container {\n",
              "      display:flex;\n",
              "      gap: 12px;\n",
              "    }\n",
              "\n",
              "    .colab-df-convert {\n",
              "      background-color: #E8F0FE;\n",
              "      border: none;\n",
              "      border-radius: 50%;\n",
              "      cursor: pointer;\n",
              "      display: none;\n",
              "      fill: #1967D2;\n",
              "      height: 32px;\n",
              "      padding: 0 0 0 0;\n",
              "      width: 32px;\n",
              "    }\n",
              "\n",
              "    .colab-df-convert:hover {\n",
              "      background-color: #E2EBFA;\n",
              "      box-shadow: 0px 1px 2px rgba(60, 64, 67, 0.3), 0px 1px 3px 1px rgba(60, 64, 67, 0.15);\n",
              "      fill: #174EA6;\n",
              "    }\n",
              "\n",
              "    .colab-df-buttons div {\n",
              "      margin-bottom: 4px;\n",
              "    }\n",
              "\n",
              "    [theme=dark] .colab-df-convert {\n",
              "      background-color: #3B4455;\n",
              "      fill: #D2E3FC;\n",
              "    }\n",
              "\n",
              "    [theme=dark] .colab-df-convert:hover {\n",
              "      background-color: #434B5C;\n",
              "      box-shadow: 0px 1px 3px 1px rgba(0, 0, 0, 0.15);\n",
              "      filter: drop-shadow(0px 1px 2px rgba(0, 0, 0, 0.3));\n",
              "      fill: #FFFFFF;\n",
              "    }\n",
              "  </style>\n",
              "\n",
              "    <script>\n",
              "      const buttonEl =\n",
              "        document.querySelector('#df-e46fb1d6-a77a-4dad-8c76-00429195aa16 button.colab-df-convert');\n",
              "      buttonEl.style.display =\n",
              "        google.colab.kernel.accessAllowed ? 'block' : 'none';\n",
              "\n",
              "      async function convertToInteractive(key) {\n",
              "        const element = document.querySelector('#df-e46fb1d6-a77a-4dad-8c76-00429195aa16');\n",
              "        const dataTable =\n",
              "          await google.colab.kernel.invokeFunction('convertToInteractive',\n",
              "                                                    [key], {});\n",
              "        if (!dataTable) return;\n",
              "\n",
              "        const docLinkHtml = 'Like what you see? Visit the ' +\n",
              "          '<a target=\"_blank\" href=https://colab.research.google.com/notebooks/data_table.ipynb>data table notebook</a>'\n",
              "          + ' to learn more about interactive tables.';\n",
              "        element.innerHTML = '';\n",
              "        dataTable['output_type'] = 'display_data';\n",
              "        await google.colab.output.renderOutput(dataTable, element);\n",
              "        const docLink = document.createElement('div');\n",
              "        docLink.innerHTML = docLinkHtml;\n",
              "        element.appendChild(docLink);\n",
              "      }\n",
              "    </script>\n",
              "  </div>\n",
              "\n",
              "\n",
              "<div id=\"df-4ff9af85-0442-4a1e-a73e-40000a7f670a\">\n",
              "  <button class=\"colab-df-quickchart\" onclick=\"quickchart('df-4ff9af85-0442-4a1e-a73e-40000a7f670a')\"\n",
              "            title=\"Suggest charts\"\n",
              "            style=\"display:none;\">\n",
              "\n",
              "<svg xmlns=\"http://www.w3.org/2000/svg\" height=\"24px\"viewBox=\"0 0 24 24\"\n",
              "     width=\"24px\">\n",
              "    <g>\n",
              "        <path d=\"M19 3H5c-1.1 0-2 .9-2 2v14c0 1.1.9 2 2 2h14c1.1 0 2-.9 2-2V5c0-1.1-.9-2-2-2zM9 17H7v-7h2v7zm4 0h-2V7h2v10zm4 0h-2v-4h2v4z\"/>\n",
              "    </g>\n",
              "</svg>\n",
              "  </button>\n",
              "\n",
              "<style>\n",
              "  .colab-df-quickchart {\n",
              "      --bg-color: #E8F0FE;\n",
              "      --fill-color: #1967D2;\n",
              "      --hover-bg-color: #E2EBFA;\n",
              "      --hover-fill-color: #174EA6;\n",
              "      --disabled-fill-color: #AAA;\n",
              "      --disabled-bg-color: #DDD;\n",
              "  }\n",
              "\n",
              "  [theme=dark] .colab-df-quickchart {\n",
              "      --bg-color: #3B4455;\n",
              "      --fill-color: #D2E3FC;\n",
              "      --hover-bg-color: #434B5C;\n",
              "      --hover-fill-color: #FFFFFF;\n",
              "      --disabled-bg-color: #3B4455;\n",
              "      --disabled-fill-color: #666;\n",
              "  }\n",
              "\n",
              "  .colab-df-quickchart {\n",
              "    background-color: var(--bg-color);\n",
              "    border: none;\n",
              "    border-radius: 50%;\n",
              "    cursor: pointer;\n",
              "    display: none;\n",
              "    fill: var(--fill-color);\n",
              "    height: 32px;\n",
              "    padding: 0;\n",
              "    width: 32px;\n",
              "  }\n",
              "\n",
              "  .colab-df-quickchart:hover {\n",
              "    background-color: var(--hover-bg-color);\n",
              "    box-shadow: 0 1px 2px rgba(60, 64, 67, 0.3), 0 1px 3px 1px rgba(60, 64, 67, 0.15);\n",
              "    fill: var(--button-hover-fill-color);\n",
              "  }\n",
              "\n",
              "  .colab-df-quickchart-complete:disabled,\n",
              "  .colab-df-quickchart-complete:disabled:hover {\n",
              "    background-color: var(--disabled-bg-color);\n",
              "    fill: var(--disabled-fill-color);\n",
              "    box-shadow: none;\n",
              "  }\n",
              "\n",
              "  .colab-df-spinner {\n",
              "    border: 2px solid var(--fill-color);\n",
              "    border-color: transparent;\n",
              "    border-bottom-color: var(--fill-color);\n",
              "    animation:\n",
              "      spin 1s steps(1) infinite;\n",
              "  }\n",
              "\n",
              "  @keyframes spin {\n",
              "    0% {\n",
              "      border-color: transparent;\n",
              "      border-bottom-color: var(--fill-color);\n",
              "      border-left-color: var(--fill-color);\n",
              "    }\n",
              "    20% {\n",
              "      border-color: transparent;\n",
              "      border-left-color: var(--fill-color);\n",
              "      border-top-color: var(--fill-color);\n",
              "    }\n",
              "    30% {\n",
              "      border-color: transparent;\n",
              "      border-left-color: var(--fill-color);\n",
              "      border-top-color: var(--fill-color);\n",
              "      border-right-color: var(--fill-color);\n",
              "    }\n",
              "    40% {\n",
              "      border-color: transparent;\n",
              "      border-right-color: var(--fill-color);\n",
              "      border-top-color: var(--fill-color);\n",
              "    }\n",
              "    60% {\n",
              "      border-color: transparent;\n",
              "      border-right-color: var(--fill-color);\n",
              "    }\n",
              "    80% {\n",
              "      border-color: transparent;\n",
              "      border-right-color: var(--fill-color);\n",
              "      border-bottom-color: var(--fill-color);\n",
              "    }\n",
              "    90% {\n",
              "      border-color: transparent;\n",
              "      border-bottom-color: var(--fill-color);\n",
              "    }\n",
              "  }\n",
              "</style>\n",
              "\n",
              "  <script>\n",
              "    async function quickchart(key) {\n",
              "      const quickchartButtonEl =\n",
              "        document.querySelector('#' + key + ' button');\n",
              "      quickchartButtonEl.disabled = true;  // To prevent multiple clicks.\n",
              "      quickchartButtonEl.classList.add('colab-df-spinner');\n",
              "      try {\n",
              "        const charts = await google.colab.kernel.invokeFunction(\n",
              "            'suggestCharts', [key], {});\n",
              "      } catch (error) {\n",
              "        console.error('Error during call to suggestCharts:', error);\n",
              "      }\n",
              "      quickchartButtonEl.classList.remove('colab-df-spinner');\n",
              "      quickchartButtonEl.classList.add('colab-df-quickchart-complete');\n",
              "    }\n",
              "    (() => {\n",
              "      let quickchartButtonEl =\n",
              "        document.querySelector('#df-4ff9af85-0442-4a1e-a73e-40000a7f670a button');\n",
              "      quickchartButtonEl.style.display =\n",
              "        google.colab.kernel.accessAllowed ? 'block' : 'none';\n",
              "    })();\n",
              "  </script>\n",
              "</div>\n",
              "\n",
              "    </div>\n",
              "  </div>\n"
            ],
            "application/vnd.google.colaboratory.intrinsic+json": {
              "type": "dataframe",
              "variable_name": "test_df",
              "summary": "{\n  \"name\": \"test_df\",\n  \"rows\": 10000,\n  \"fields\": [\n    {\n      \"column\": \"text\",\n      \"properties\": {\n        \"dtype\": \"string\",\n        \"num_unique_values\": 10000,\n        \"samples\": [\n          \"I have been into Dynasty for a pedicure before and it was a nice experience. Nothing that blew me away, but nice none-the-less. Unfortunately, I made the decision to stop there to get my nails done yesterday and my fingers are still regretting that choice. The nail tech that I had was rough, made me bleed twice without any compassion and just gave me an overall negative feeling. I seemed to be an inconvenience for him. The work was sloppy and not what I am used to. Now, I know getting nails can cause your fingers to be sore, but I've never had my nail beds hurt like they do today. I learned my lesson not to go here again for a nail set. Just wanted you to know my experience.\",\n          \"Went on a thursday night with my boyfriend, it wasn't busy but took 10min. to be seated then ordered and it took a while for the waitress to return with just our drinks. Our food came nice and hot but then our waitress didn't return to ask if we needed something, service was bad and the food was just okay.We won't be returning to this location.\",\n          \"I never like to write a bad review....but if I experience bad service for the money that I have spent with you, then you're gonna get it.\\\\n\\\\nOnly 4-6 people were actually inside dining- I stood at the bar for nearly 5 minutes to pick up food before receiving the first 'hello.'\\\\n\\\\nFood wasn't that bad, actually even better the next day as left-overs\\\\n\\\\nBut for the $$$ spent, I'll stick with my other favorites...will give it another shot someday when its nice outside and I can take advantage of their outdoor seating.\"\n        ],\n        \"semantic_type\": \"\",\n        \"description\": \"\"\n      }\n    },\n    {\n      \"column\": \"true_label\",\n      \"properties\": {\n        \"dtype\": \"number\",\n        \"std\": 1,\n        \"min\": 0,\n        \"max\": 4,\n        \"num_unique_values\": 5,\n        \"samples\": [\n          4,\n          3,\n          2\n        ],\n        \"semantic_type\": \"\",\n        \"description\": \"\"\n      }\n    },\n    {\n      \"column\": \"prediction\",\n      \"properties\": {\n        \"dtype\": \"number\",\n        \"std\": 1,\n        \"min\": 0,\n        \"max\": 4,\n        \"num_unique_values\": 5,\n        \"samples\": [\n          1,\n          4,\n          3\n        ],\n        \"semantic_type\": \"\",\n        \"description\": \"\"\n      }\n    },\n    {\n      \"column\": \"logits\",\n      \"properties\": {\n        \"dtype\": \"object\",\n        \"semantic_type\": \"\",\n        \"description\": \"\"\n      }\n    },\n    {\n      \"column\": \"probs\",\n      \"properties\": {\n        \"dtype\": \"object\",\n        \"semantic_type\": \"\",\n        \"description\": \"\"\n      }\n    }\n  ]\n}"
            }
          },
          "metadata": {},
          "execution_count": 48
        }
      ]
    },
    {
      "cell_type": "markdown",
      "source": [
        "##Test Loss"
      ],
      "metadata": {
        "id": "7U3tzo-PGGpB"
      }
    },
    {
      "cell_type": "code",
      "source": [
        "import torch.nn.functional as F\n",
        "\n",
        "# Define the loss function (same as used during training)\n",
        "loss_fn = torch.nn.CrossEntropyLoss()\n",
        "\n",
        "# Extract logits and true labels from the DataFrame\n",
        "logits = np.vstack(test_df[\"logits\"])  # Convert list of logits to a numpy array\n",
        "true_labels = test_df[\"true_label\"].values\n",
        "\n",
        "# Convert to tensors\n",
        "logits_tensor = torch.tensor(logits, dtype=torch.float32)\n",
        "true_labels_tensor = torch.tensor(true_labels, dtype=torch.long)\n",
        "\n",
        "# Compute the test loss\n",
        "test_loss = loss_fn(logits_tensor, true_labels_tensor).item()\n",
        "print(f\"Test Loss: {test_loss:.4f}\")\n",
        "\n"
      ],
      "metadata": {
        "id": "4w7Nc8chsYWo",
        "colab": {
          "base_uri": "https://localhost:8080/"
        },
        "outputId": "e13f7b2a-96b7-4c28-a403-41cfbfc7b7ee"
      },
      "execution_count": null,
      "outputs": [
        {
          "output_type": "stream",
          "name": "stdout",
          "text": [
            "Test Loss: 0.8480\n"
          ]
        }
      ]
    },
    {
      "cell_type": "markdown",
      "source": [
        "### Testset visualization / Correlation matrx"
      ],
      "metadata": {
        "id": "jGhpWdERGP2M"
      }
    },
    {
      "cell_type": "code",
      "execution_count": null,
      "metadata": {
        "colab": {
          "base_uri": "https://localhost:8080/",
          "height": 867
        },
        "id": "PmaD7btQhtn7",
        "outputId": "62bd0ec7-3f26-4013-9d89-9310db85341e"
      },
      "outputs": [
        {
          "output_type": "stream",
          "name": "stdout",
          "text": [
            "Classification Report:\n",
            "              precision    recall  f1-score   support\n",
            "\n",
            "     Class 0       0.74      0.80      0.77      2000\n",
            "     Class 1       0.59      0.47      0.52      2000\n",
            "     Class 2       0.56      0.54      0.55      2000\n",
            "     Class 3       0.54      0.59      0.56      2000\n",
            "     Class 4       0.71      0.76      0.74      2000\n",
            "\n",
            "    accuracy                           0.63     10000\n",
            "   macro avg       0.63      0.63      0.63     10000\n",
            "weighted avg       0.63      0.63      0.63     10000\n",
            "\n"
          ]
        },
        {
          "output_type": "display_data",
          "data": {
            "text/plain": [
              "<Figure size 1000x700 with 2 Axes>"
            ],
            "image/png": "[encoded data removed]"
          },
          "metadata": {}
        }
      ],
      "source": [
        "# Extract true labels and predictions from the test_df DataFrame\n",
        "all_labels = test_df[\"true_label\"]\n",
        "all_preds = test_df[\"prediction\"]\n",
        "\n",
        "# Classification Report\n",
        "print(\"Classification Report:\")\n",
        "print(classification_report(all_labels, all_preds, target_names=['Class 0', 'Class 1', 'Class 2', 'Class 3', 'Class 4']))\n",
        "\n",
        "# Confusion Matrix\n",
        "cm = confusion_matrix(all_labels, all_preds)\n",
        "classes = ['Class 0', 'Class 1', 'Class 2', 'Class 3', 'Class 4']\n",
        "\n",
        "# Plot Confusion Matrix\n",
        "plt.figure(figsize=(10, 7))\n",
        "sns.heatmap(cm, annot=True, fmt=\"d\", cmap=\"Blues\", xticklabels=classes, yticklabels=classes)\n",
        "plt.xlabel(\"Predicted Labels\")\n",
        "plt.ylabel(\"True Labels\")\n",
        "plt.title(\"Confusion Matrix (Individual Classes)\")\n",
        "plt.show()\n"
      ]
    },
    {
      "cell_type": "markdown",
      "source": [
        "###Grouping Labels together\n",
        "We do this to get a better reprisentation of the accuracy"
      ],
      "metadata": {
        "id": "4YvDg4tkGWYH"
      }
    },
    {
      "cell_type": "code",
      "source": [
        "# Grouped Classes Mapping\n",
        "def map_to_grouped_class(label):\n",
        "    if label in [0, 1]:\n",
        "        return 0  # Negative\n",
        "    elif label == 2:\n",
        "        return 1  # Neutral\n",
        "    elif label in [3, 4]:\n",
        "        return 2  # Positive\n",
        "\n",
        "# Map Predictions and Labels to Grouped Classes\n",
        "grouped_preds = [map_to_grouped_class(p) for p in all_preds]\n",
        "grouped_labels = [map_to_grouped_class(l) for l in all_labels]\n",
        "\n",
        "# Calculate Grouped Accuracy\n",
        "grouped_accuracy = np.mean(np.array(grouped_preds) == np.array(grouped_labels))\n",
        "print(f\"\\nAccuracy (Grouped Classes): {grouped_accuracy:.4f}\")\n",
        "\n",
        "# Grouped Classification Report\n",
        "grouped_classes = [\"Negative\", \"Neutral\", \"Positive\"]\n",
        "print(\"Classification Report (Grouped Classes):\")\n",
        "print(classification_report(grouped_labels, grouped_preds, target_names=grouped_classes))\n",
        "\n",
        "# Grouped Confusion Matrix\n",
        "grouped_cm = confusion_matrix(grouped_labels, grouped_preds)\n",
        "\n",
        "# Plot Grouped Confusion Matrix\n",
        "plt.figure(figsize=(8, 6))\n",
        "sns.heatmap(grouped_cm, annot=True, fmt=\"d\", cmap=\"Blues\", xticklabels=grouped_classes, yticklabels=grouped_classes)\n",
        "plt.xlabel(\"Predicted Labels\")\n",
        "plt.ylabel(\"True Labels\")\n",
        "plt.title(\"Confusion Matrix (Grouped Classes)\")\n",
        "plt.show()"
      ],
      "metadata": {
        "colab": {
          "base_uri": "https://localhost:8080/",
          "height": 790
        },
        "id": "ubLs1EdsibRL",
        "outputId": "408a3520-12d0-43a7-8c42-66b1e923da62"
      },
      "execution_count": null,
      "outputs": [
        {
          "output_type": "stream",
          "name": "stdout",
          "text": [
            "\n",
            "Accuracy (Grouped Classes): 0.8083\n",
            "Classification Report (Grouped Classes):\n",
            "              precision    recall  f1-score   support\n",
            "\n",
            "    Negative       0.89      0.84      0.86      4000\n",
            "     Neutral       0.56      0.54      0.55      2000\n",
            "    Positive       0.85      0.92      0.88      4000\n",
            "\n",
            "    accuracy                           0.81     10000\n",
            "   macro avg       0.77      0.76      0.76     10000\n",
            "weighted avg       0.81      0.81      0.81     10000\n",
            "\n"
          ]
        },
        {
          "output_type": "display_data",
          "data": {
            "text/plain": [
              "<Figure size 800x600 with 2 Axes>"
            ],
            "image/png": "[encoded data removed]"
          },
          "metadata": {}
        }
      ]
    }
  ]
}